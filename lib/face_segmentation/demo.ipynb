{
 "cells": [
  {
   "cell_type": "code",
   "execution_count": 1,
   "metadata": {},
   "outputs": [],
   "source": [
    "import cv2\n",
    "import numpy as np\n",
    "import torch\n",
    "from torch import nn\n",
    "from models import LinkNet34\n",
    "import torchvision.transforms as transforms\n",
    "from torch.autograd import Variable\n",
    "from PIL import Image, ImageFilter\n",
    "import time\n",
    "import sys\n"
   ]
  },
  {
   "cell_type": "code",
   "execution_count": 2,
   "metadata": {},
   "outputs": [
    {
     "data": {
      "text/plain": [
       "1"
      ]
     },
     "execution_count": 2,
     "metadata": {},
     "output_type": "execute_result"
    }
   ],
   "source": [
    "device = torch.device(\"cuda:0\" if torch.cuda.is_available() else \"cpu\")\n",
    "model = LinkNet34()\n",
    "# model.load_state_dict(torch.load('linknet.pth'))\n",
    "model.load_state_dict(torch.load('linknet.pth', map_location=lambda storage, loc: storage))\n",
    "model.eval()\n",
    "model.to(device)\n",
    "1"
   ]
  },
  {
   "cell_type": "code",
   "execution_count": 3,
   "metadata": {},
   "outputs": [],
   "source": [
    "\n",
    "class CaptureFrames():\n",
    "\n",
    "    def __init__(self, model, source, show_mask=False):\n",
    "        \n",
    "        self.device = torch.device(\"cuda:0\" if torch.cuda.is_available() else \"cpu\")\n",
    "        self.model = model\n",
    "        self.source = source\n",
    "        self.show_mask = show_mask\n",
    "        \n",
    "    def __call__(self, source):\n",
    "        self.capture_frames(source)\n",
    "  \n",
    "    def capture_frames(self, source):\n",
    "        \n",
    "        img_transform = transforms.Compose([\n",
    "            transforms.Resize((256,256)),\n",
    "            transforms.ToTensor(),\n",
    "            transforms.Normalize(mean=[0.485, 0.456, 0.406], std=[0.229, 0.224, 0.225])\n",
    "        ])\n",
    "        camera = cv2.VideoCapture(source)\n",
    "        time.sleep(2)\n",
    "        self.model.eval()\n",
    "        (grabbed, orig) = camera.read()\n",
    "        camera.set(cv2.CAP_PROP_FPS, 25.0)\n",
    "\n",
    "        fps = camera.get(cv2.CAP_PROP_FPS)\n",
    "\n",
    "        if (camera.isOpened() == False):\n",
    "            print(\"Unable to read video\")\n",
    "\n",
    "        time.sleep(2)\n",
    "\n",
    "        frame_width = int(camera.get(3)); frame_height = int(camera.get(4));\n",
    "\n",
    "        time_1 = time.time()\n",
    "        self.frames_count = 0\n",
    "        while grabbed:\n",
    "            (grabbed, orig) = camera.read()\n",
    "            if not grabbed:\n",
    "                continue\n",
    "            \n",
    "            shape = orig.shape[0:2]\n",
    "            frame = cv2.cvtColor(orig, cv2.COLOR_BGR2RGB)\n",
    "            frame = cv2.resize(frame,(256,256), cv2.INTER_LINEAR )\n",
    "            \n",
    "            \n",
    "            \n",
    "\n",
    "            a = img_transform(Image.fromarray(frame))\n",
    "            a = a.unsqueeze(0)\n",
    "            imgs = Variable(a.to(dtype=torch.float, device=self.device))\n",
    "            pred = self.model(imgs)\n",
    "            \n",
    "            pred= torch.nn.functional.interpolate(pred, size=[shape[0], shape[1]])\n",
    "            mask = pred.data.cpu().numpy()\n",
    "            mask = mask.squeeze()\n",
    "            \n",
    "            mask = mask > 0.8\n",
    "            rgba = cv2.cvtColor(orig, cv2.COLOR_BGR2BGRA)\n",
    "            ind = np.where(mask == 0)\n",
    "            rgba[ind] = rgba[ind] - [0,0,0, 180]\n",
    "            \n",
    "            canvas = Image.new('RGBA', (rgba.shape[1], rgba.shape[0]), (255,255,255,255))\n",
    "            canvas.paste(Image.fromarray(rgba), mask=Image.fromarray(rgba))\n",
    "            rgba = np.array(canvas)\n",
    "            rgb = cv2.cvtColor(rgba, cv2.COLOR_BGRA2BGR)\n",
    "            k = cv2.waitKey(1)\n",
    "\n",
    "            if self.show_mask:\n",
    "                cv2.imshow('mask', rgb)\n",
    "\n",
    "            if self.frames_count % 30 == 29:\n",
    "                time_2 = time.time()\n",
    "                sys.stdout.write(f'\\rFPS: {30/(time_2-time_1)}')\n",
    "                sys.stdout.flush()\n",
    "                time_1 = time.time()\n",
    "                \n",
    "            if k != -1:\n",
    "                self.terminate(camera)\n",
    "                break\n",
    "            self.frames_count+=1\n",
    "        self.terminate(camera)\n",
    "\n",
    "    \n",
    "    def terminate(self, camera):\n",
    "        cv2.destroyAllWindows()\n",
    "        camera.release()\n",
    "\n",
    "\n"
   ]
  },
  {
   "cell_type": "code",
   "execution_count": 4,
   "metadata": {},
   "outputs": [],
   "source": [
    "# set path=0 for webcam or set to a video file\n",
    "path = 0\n",
    "c = CaptureFrames(model, 0, True)\n",
    "c(path)"
   ]
  },
  {
   "cell_type": "code",
   "execution_count": null,
   "metadata": {},
   "outputs": [],
   "source": []
  },
  {
   "cell_type": "code",
   "execution_count": null,
   "metadata": {},
   "outputs": [],
   "source": []
  }
 ],
 "metadata": {
  "kernelspec": {
   "display_name": "Python 3",
   "language": "python",
   "name": "python3"
  },
  "language_info": {
   "codemirror_mode": {
    "name": "ipython",
    "version": 3
   },
   "file_extension": ".py",
   "mimetype": "text/x-python",
   "name": "python",
   "nbconvert_exporter": "python",
   "pygments_lexer": "ipython3",
   "version": "3.7.1"
  }
 },
 "nbformat": 4,
 "nbformat_minor": 2
}
