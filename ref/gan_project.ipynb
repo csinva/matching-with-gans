{
 "cells": [
  {
   "cell_type": "code",
   "execution_count": 2,
   "metadata": {},
   "outputs": [
    {
     "name": "stdout",
     "output_type": "stream",
     "text": [
      "The autoreload extension is already loaded. To reload it, use:\n",
      "  %reload_ext autoreload\n",
      "Loading networks from \"gdrive:networks/stylegan2-ffhq-config-f.pkl\"...\n",
      "Done!\n"
     ]
    }
   ],
   "source": [
    "%load_ext autoreload\n",
    "%autoreload 2\n",
    "import sys\n",
    "sys.path.append('../models/stylegan2')\n",
    "import numpy as np\n",
    "import PIL.Image\n",
    "from os.path import join as oj\n",
    "import os\n",
    "import gan_helper\n",
    "import util\n",
    "import skimage.transform\n",
    "\n",
    "GAN = gan_helper.Generator() # initializes gan\n",
    "print('Done!')"
   ]
  },
  {
   "cell_type": "markdown",
   "metadata": {},
   "source": [
    "# synthetic images"
   ]
  },
  {
   "cell_type": "code",
   "execution_count": 9,
   "metadata": {},
   "outputs": [],
   "source": [
    "N_IMS = 4\n",
    "np.random.seed(13)\n",
    "z = np.random.randn(N_IMS * 512).reshape((N_IMS, 512))\n",
    "ims_synth = GAN.gen(z)"
   ]
  },
  {
   "cell_type": "code",
   "execution_count": 19,
   "metadata": {},
   "outputs": [
    {
     "name": "stdout",
     "output_type": "stream",
     "text": [
      "writing to projections/synth0\n",
      "writing to projections/synth1 \n",
      "writing to projections/synth2 \n",
      "writing to projections/synth3 \n",
      "                              \r"
     ]
    }
   ],
   "source": [
    "# latents, ims_proj_synth = GAN.project(ims_synth, num_steps=25,\n",
    "#                                       image_prefix='synth')\n",
    "ims_proj_synth_list = []\n",
    "for i in range(len(ims_synth)):\n",
    "    latents, ims_proj_synth = GAN.project(ims_synth[i: i+1], num_steps=50,\n",
    "                                          image_prefix=f'synth{i}',\n",
    "                                          num_snapshots=3, lr=3e-2)\n",
    "    ims_proj_synth_list.append(ims_proj_synth)"
   ]
  },
  {
   "cell_type": "code",
   "execution_count": null,
   "metadata": {},
   "outputs": [],
   "source": [
    "util.plot_row(ims_synth, suptitle='synthetic images')\n",
    "util.plot_row([ims[-2] for ims in ims_proj_synth_list],\n",
    "               suptitle='synthetic reconstructions')\n",
    "util.plot_row([ims[-1] for ims in ims_proj_synth_list],\n",
    "               suptitle='synthetic reconstructions')"
   ]
  },
  {
   "cell_type": "markdown",
   "metadata": {},
   "source": [
    "# real images"
   ]
  },
  {
   "cell_type": "code",
   "execution_count": null,
   "metadata": {},
   "outputs": [],
   "source": [
    "def read_and_process_im(fname):\n",
    "    '''Read square from middle and then reshape to 1024 x 1024\n",
    "    '''\n",
    "    im = np.array(PIL.Image.open(oj(REAL_IMAGES_DIR, fname)))\n",
    "    print(im.shape)\n",
    "    \n",
    "    # make square\n",
    "    dim = min(im.shape[0], im.shape[1])\n",
    "    im = im[:dim, :dim]\n",
    "    im = skimage.transform.resize(im, output_shape=(1024, 1024, 3))\n",
    "    return im\n",
    "\n",
    "REAL_IMAGES_DIR = 'images_misc'\n",
    "ims_real = np.array([read_and_process_im(fname)\n",
    "            for fname in os.listdir(REAL_IMAGES_DIR)\n",
    "            if '.jpg' in fname])"
   ]
  },
  {
   "cell_type": "code",
   "execution_count": 169,
   "metadata": {},
   "outputs": [
    {
     "name": "stdout",
     "output_type": "stream",
     "text": [
      "writing to projections/real0\n",
      "writing to projections/real1  \n",
      "writing to projections/real2  \n",
      "writing to projections/real3  \n",
      "                              \r"
     ]
    }
   ],
   "source": [
    "ims_proj_real_list = []\n",
    "for i in range(len(ims_real)):\n",
    "    latents, ims_proj_synth = GAN.project(ims_real[i: i+1], num_steps=40,\n",
    "                                          image_prefix=f'real{i}', num_snapshots=1)\n",
    "    ims_proj_real_list.append(ims_proj_synth)"
   ]
  },
  {
   "cell_type": "code",
   "execution_count": null,
   "metadata": {},
   "outputs": [],
   "source": [
    "util.plot_row(ims_real, suptitle='real images')\n",
    "util.plot_row(ims_proj_real_list, suptitle='real reconstructions')"
   ]
  },
  {
   "cell_type": "code",
   "execution_count": null,
   "metadata": {},
   "outputs": [],
   "source": []
  }
 ],
 "metadata": {
  "kernelspec": {
   "display_name": "Environment (conda_tensorflow_p36)",
   "language": "python",
   "name": "conda_tensorflow_p36"
  },
  "language_info": {
   "codemirror_mode": {
    "name": "ipython",
    "version": 3
   },
   "file_extension": ".py",
   "mimetype": "text/x-python",
   "name": "python",
   "nbconvert_exporter": "python",
   "pygments_lexer": "ipython3",
   "version": "3.6.10"
  }
 },
 "nbformat": 4,
 "nbformat_minor": 4
}