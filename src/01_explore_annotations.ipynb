{
 "cells": [
  {
   "cell_type": "code",
   "execution_count": 7,
   "metadata": {},
   "outputs": [
    {
     "name": "stdout",
     "output_type": "stream",
     "text": [
      "The autoreload extension is already loaded. To reload it, use:\n",
      "  %reload_ext autoreload\n"
     ]
    }
   ],
   "source": [
    "%load_ext autoreload\n",
    "%autoreload 2\n",
    "import numpy as np\n",
    "import matplotlib.pyplot as plt\n",
    "import os\n",
    "import glob\n",
    "import json\n",
    "from matplotlib.backends.backend_pdf import PdfPages\n",
    "import datetime\n",
    "import time\n",
    "import jsonlines\n",
    "from PIL import Image\n",
    "from scipy.optimize import curve_fit\n",
    "import scipy as sy\n",
    "from annotation_dset import annotationDatabase\n",
    "import pickle as pkl\n",
    "from os.path import join as oj\n",
    "import viz\n",
    "\n",
    "## useful constants\n",
    "ANNOTATIONS_DIR = '../data/annotation-dataset-stylegan2/annotations' # path to many datasets, includes on directory before the below dirs\n",
    "LABELS_FILE = '/annotation-tool/data.json'\n",
    "OUT_MANIFEST_FILE = '/manifests/output/output.manifest'\n",
    "WORKERS_RESPONSE = '/annotations/worker-response'\n",
    "IMAGE_PATH = '../data/annotation-dataset-stylegan2/images' # location of images\n",
    "OUTPUT_PDF_DIR = './figures' # location of output pdfs\n",
    "SEQUENCE_LENGTH = 10 # number of images per sequence\n",
    "PROCESSED_DIR = 'processed'"
   ]
  },
  {
   "cell_type": "code",
   "execution_count": 2,
   "metadata": {},
   "outputs": [
    {
     "name": "stdout",
     "output_type": "stream",
     "text": [
      "experiments ['calibration-random-v2-ethnicity-000', 'calibration-random-v2-age-000', 'calibration-random-v2-gender-000', 'calibration-random-v2-skin-color-000', 'calibration-random-v2-makeup-000', 'calibration-random-v2-facial-hair-000', 'calibration-random-v2-hair-length-000']\n",
      "Found 5000 images and 506 annotators.\n",
      "['East Asian', 'South Asian', 'African', 'Latino', 'Middle East', 'Caucasian'] (5000, 7)\n",
      "Found 5000 images and 536 annotators.\n",
      "['Child', 'Teen', 'Young adult', 'Adult', 'Middle age', 'Senior'] (5000, 7)\n",
      "Found 5000 images and 630 annotators.\n",
      "['Female', 'Probably female', 'In between', 'Probably male', 'Male'] (5000, 9)\n",
      "Found 5000 images and 651 annotators.\n",
      "['Light', 'Fair', 'Medium', 'Olive', 'Brown', 'Black'] (5000, 7)\n",
      "Found 5000 images and 490 annotators.\n",
      "['None', 'Minimal', 'Full', 'Showy'] (5000, 7)\n",
      "Found 5000 images and 575 annotators.\n",
      "['None', 'Minimal', 'Mustache', 'Beard', 'Full'] (5000, 7)\n",
      "Found 5000 images and 561 annotators.\n",
      "['Very short', 'Short', 'Medium', 'Long', 'Very long'] (5000, 7)\n",
      "saved!\n"
     ]
    }
   ],
   "source": [
    "# Get list of experiments in annotation dir. Alternatively, specify ones you care about.\n",
    "annotations_dict = {}\n",
    "annotations_names_dict = {}\n",
    "experiments = [os.path.split(f)[1] for f in glob.glob(os.path.join(ANNOTATIONS_DIR, '*'))]\n",
    "print('experiments', experiments)\n",
    "# experiments = ['calibration-random-v2-facial-hair-000'] #'perona-causal-faces-uncanny-000']\n",
    "\n",
    "# If output directory doesn't exist, make it\n",
    "if not os.path.exists(OUTPUT_PDF_DIR):\n",
    "    os.makedirs(OUTPUT_PDF_DIR)\n",
    "\n",
    "# Do analysis figures for each experiment\n",
    "for EXPERIMENT_LABEL in experiments:\n",
    "    ANNOTATIONS_PATH = f'{ANNOTATIONS_DIR}/{EXPERIMENT_LABEL}{WORKERS_RESPONSE}'\n",
    "    OUT_MANIFEST_PATH = f'{ANNOTATIONS_DIR}/{EXPERIMENT_LABEL}{OUT_MANIFEST_FILE}'\n",
    "    LABELS_PATH = f'{ANNOTATIONS_DIR}/{EXPERIMENT_LABEL}{LABELS_FILE}'\n",
    "    OUT_PDF_FILE_NAME = os.path.join(OUTPUT_PDF_DIR, EXPERIMENT_LABEL + '.pdf')\n",
    "\n",
    "    #Read labels using annotation-tool/data.json and assign integers to labels \n",
    "    with open(LABELS_PATH, 'r') as labels_file:\n",
    "        labels_data = json.load(labels_file)['labels']\n",
    "        LABELS = [l['label'] for l in labels_data]\n",
    "    labelScores = {l:i for (i, l) in enumerate(LABELS)} # generate numerical scores for the labels - useful in regression\n",
    "\n",
    "    # Get ordered list of image names from output manifest\n",
    "    image_names = []\n",
    "    with jsonlines.open(OUT_MANIFEST_PATH) as reader:\n",
    "        for obj in reader:\n",
    "            _, name = os.path.split(obj['source-ref']) #remove leading path\n",
    "            image_names.append(name)\n",
    "\n",
    "    # Make map from annotation index to image index\n",
    "    idx_map = []\n",
    "    with jsonlines.open(OUT_MANIFEST_PATH) as reader:\n",
    "        for obj in reader:\n",
    "            _, name = os.path.split(obj['source-ref']) #remove leading path\n",
    "            idx = name.split('.')[0]\n",
    "            idx_map.append(idx)\n",
    "  \n",
    "\n",
    "    # Make annotation file name list in proper order\n",
    "    annotation_file_names = []\n",
    "    for i in range(len(idx_map)):\n",
    "        idx = idx_map.index(str(i))\n",
    "        annotation_file_names += glob.glob(ANNOTATIONS_PATH + '/*/%d/*.json'% idx)    \n",
    "        \n",
    "        \n",
    "    # Make annotation file name list in proper order (keep same order)\n",
    "    #annotation_file_names = []\n",
    "    #for i in range(len(idx_map)):\n",
    "    #    annotation_file_names += glob.glob(ANNOTATIONS_PATH + '/*/%d/*.json'% i)\n",
    "\n",
    "        \n",
    "    # put together the database of the annotator IDs and their work\n",
    "    annotations = annotationDatabase(annotation_file_names, labelScores)\n",
    "    annotations.startPDFReport(OUT_PDF_FILE_NAME, EXPERIMENT_LABEL)\n",
    "    annotations.displayAnnotatorsWork()\n",
    "    annotations.displaySequenceAnnotations(image_names, LABELS, SEQUENCE_LENGTH, IMAGE_PATH)\n",
    "    annotations.endPDFReport()\n",
    "    \n",
    "    print(LABELS, np.array(annotations.imageScores).shape)\n",
    "    annotations_dict[EXPERIMENT_LABEL] = np.array(annotations.imageScores)\n",
    "    annotations_names_dict[EXPERIMENT_LABEL] = LABELS\n",
    "\n",
    "pkl.dump(annotations_dict, open(oj(PROCESSED_DIR, '01_annotations_dict.pkl'), 'wb'))\n",
    "pkl.dump(annotations_names_dict,\n",
    "         open(oj(PROCESSED_DIR, '01_annotations_labels_dict.pkl'), 'wb'))\n",
    "print('saved!')"
   ]
  },
  {
   "cell_type": "markdown",
   "metadata": {},
   "source": [
    "# look at the annotations"
   ]
  },
  {
   "cell_type": "code",
   "execution_count": 4,
   "metadata": {},
   "outputs": [],
   "source": [
    "annotations_dict = pkl.load(open(oj(PROCESSED_DIR, '01_annotations_dict.pkl'), 'rb'))\n",
    "annotations_dict_names = pkl.load(open(oj(PROCESSED_DIR, '01_annotations_labels_dict.pkl'), 'rb'))\n",
    "\n",
    "# rename keys\n",
    "annotations_dict = {k.replace('calibration-random-v2-', '').replace('-000', ''): annotations_dict[k]\n",
    "                    for k in annotations_dict}"
   ]
  },
  {
   "cell_type": "code",
   "execution_count": 12,
   "metadata": {},
   "outputs": [],
   "source": [
    "attrs = ['age', 'facial-hair', 'skin-color', 'gender', 'hair-length', 'makeup'] # leave out ethnicity\n",
    "N = len(attrs)\n",
    "annotations_mat = np.array([annotations_dict[attr].mean(axis=1) for attr in attrs])"
   ]
  },
  {
   "cell_type": "code",
   "execution_count": 14,
   "metadata": {},
   "outputs": [
    {
     "data": {
      "image/png": "[encoded data removed]",
      "text/plain": [
       "<Figure size 432x288 with 2 Axes>"
      ]
     },
     "metadata": {
      "needs_background": "light"
     },
     "output_type": "display_data"
    }
   ],
   "source": [
    "viz.corrplot(np.corrcoef(annotations_mat))\n",
    "plt.xticks(range(N), attrs, rotation='vertical')\n",
    "plt.title('correlations between attributes')\n",
    "plt.yticks(range(N), attrs)\n",
    "plt.colorbar()\n",
    "plt.show()"
   ]
  }
 ],
 "metadata": {
  "kernelspec": {
   "display_name": "Python 3",
   "language": "python",
   "name": "python3"
  },
  "language_info": {
   "codemirror_mode": {
    "name": "ipython",
    "version": 3
   },
   "file_extension": ".py",
   "mimetype": "text/x-python",
   "name": "python",
   "nbconvert_exporter": "python",
   "pygments_lexer": "ipython3",
   "version": "3.7.7"
  }
 },
 "nbformat": 4,
 "nbformat_minor": 4
}
