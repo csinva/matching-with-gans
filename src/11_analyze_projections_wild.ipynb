{
 "cells": [
  {
   "cell_type": "code",
   "execution_count": 1,
   "metadata": {},
   "outputs": [],
   "source": [
    "%load_ext autoreload\n",
    "%autoreload 2\n",
    "import sys\n",
    "import numpy as np\n",
    "import PIL.Image\n",
    "import matplotlib.pyplot as plt\n",
    "from os.path import join as oj\n",
    "import pandas as pd\n",
    "import pickle as pkl\n",
    "import sklearn.model_selection\n",
    "import models\n",
    "import util\n",
    "import os\n",
    "import config\n",
    "import viz\n",
    "import scipy.stats\n",
    "from tqdm import tqdm\n",
    "import figs\n",
    "import matplotlib.image as mpimg\n",
    "import seaborn as sns"
   ]
  },
  {
   "cell_type": "code",
   "execution_count": null,
   "metadata": {},
   "outputs": [],
   "source": [
    "dir_base = '../data/pilot-our-images-large/'\n",
    "dir_out_base = '../data_processed/pilot-our-images-large'\n",
    "for folder in os.listdir(dir_out_base):\n",
    "    dir_in = oj(dir_base, folder)\n",
    "    dir_out = oj(dir_out_base, folder)\n",
    "    print(folder)\n",
    "    ims = []\n",
    "    for fname in sorted(os.listdir(dir_out)):\n",
    "        if '.jpg' in fname or '.png' in fname:\n",
    "            img_path = oj(dir_out, fname)\n",
    "            ims.append(mpimg.imread(img_path))\n",
    "    util.plot_grid(ims)\n",
    "    plt.show()"
   ]
  }
 ],
 "metadata": {
  "kernelspec": {
   "display_name": "Environment (conda_python3)",
   "language": "python",
   "name": "conda_python3"
  },
  "language_info": {
   "codemirror_mode": {
    "name": "ipython",
    "version": 3
   },
   "file_extension": ".py",
   "mimetype": "text/x-python",
   "name": "python",
   "nbconvert_exporter": "python",
   "pygments_lexer": "ipython3",
   "version": "3.6.10"
  }
 },
 "nbformat": 4,
 "nbformat_minor": 4
}
