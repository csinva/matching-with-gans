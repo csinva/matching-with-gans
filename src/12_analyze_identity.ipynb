{
 "cells": [
  {
   "cell_type": "code",
   "execution_count": 39,
   "metadata": {},
   "outputs": [
    {
     "name": "stdout",
     "output_type": "stream",
     "text": [
      "The autoreload extension is already loaded. To reload it, use:\n",
      "  %reload_ext autoreload\n",
      "loading...\n",
      "done loading!\n"
     ]
    }
   ],
   "source": [
    "%load_ext autoreload\n",
    "%autoreload 2\n",
    "import sys\n",
    "import numpy as np\n",
    "import PIL.Image\n",
    "import matplotlib.pyplot as plt\n",
    "from os.path import join as oj\n",
    "import pandas as pd\n",
    "import pickle as pkl\n",
    "import sklearn.model_selection\n",
    "import sklearn.metrics\n",
    "import models\n",
    "import util\n",
    "import os\n",
    "import config\n",
    "import viz\n",
    "import scipy.stats\n",
    "from tqdm import tqdm\n",
    "import figs\n",
    "import matplotlib.image as mpimg\n",
    "import seaborn as sns\n",
    "import data\n",
    "CELEB_IMS_DIR = '../data/celeba-hq/ims/'\n",
    "CELEB_ANNO_DIR = '../data/celeba-hq/Anno/'\n",
    "\n",
    "# load and merge all the data\n",
    "print('loading...')\n",
    "df = data.load_ids()\n",
    "labs, labs_full = data.load_labs()\n",
    "for k in labs.keys():\n",
    "    df[k] = labs[k].values\n",
    "print('done loading!')"
   ]
  },
  {
   "cell_type": "markdown",
   "metadata": {},
   "source": [
    "## show some frequent celebs"
   ]
  },
  {
   "cell_type": "code",
   "execution_count": 3,
   "metadata": {},
   "outputs": [
    {
     "data": {
      "text/plain": [
       "Index(['5_o_Clock_Shadow', 'Arched_Eyebrows', 'Attractive', 'Bags_Under_Eyes',\n",
       "       'Bald', 'Bangs', 'Big_Lips', 'Big_Nose', 'Black_Hair', 'Blond_Hair',\n",
       "       'Blurry', 'Brown_Hair', 'Bushy_Eyebrows', 'Chubby', 'Double_Chin',\n",
       "       'Eyeglasses', 'Goatee', 'Gray_Hair', 'Heavy_Makeup', 'High_Cheekbones',\n",
       "       'Male', 'Mouth_Slightly_Open', 'Mustache', 'Narrow_Eyes', 'No_Beard',\n",
       "       'Oval_Face', 'Pale_Skin', 'Pointy_Nose', 'Receding_Hairline',\n",
       "       'Rosy_Cheeks', 'Sideburns', 'Smiling', 'Straight_Hair', 'Wavy_Hair',\n",
       "       'Wearing_Earrings', 'Wearing_Hat', 'Wearing_Lipstick',\n",
       "       'Wearing_Necklace', 'Wearing_Necktie', 'Young'],\n",
       "      dtype='object')"
      ]
     },
     "execution_count": 3,
     "metadata": {},
     "output_type": "execute_result"
    }
   ],
   "source": [
    "labs_full.keys()"
   ]
  },
  {
   "cell_type": "code",
   "execution_count": null,
   "metadata": {},
   "outputs": [],
   "source": [
    "d = df[df['count_with_this_id'] > 20]\n",
    "d = d[d['skin-color'] == 0] # filter by skin color\n",
    "# d = d[d['gender'] == 1] # filter by skin color\n",
    "\n",
    "for i in d['id'].unique()[:20]:\n",
    "    ids = d[d.id == i]\n",
    "    print(ids.shape)\n",
    "    ims = np.array([mpimg.imread(oj(CELEB_IMS_DIR, fname))\n",
    "                    for fname in ids.fname_final.values])\n",
    "    print(ims.shape)\n",
    "    util.plot_row(ims)\n",
    "    plt.show()"
   ]
  },
  {
   "cell_type": "markdown",
   "metadata": {},
   "source": [
    "# look at image statistics"
   ]
  },
  {
   "cell_type": "code",
   "execution_count": null,
   "metadata": {},
   "outputs": [],
   "source": [
    "df['gender']"
   ]
  },
  {
   "cell_type": "code",
   "execution_count": 13,
   "metadata": {},
   "outputs": [
    {
     "data": {
      "image/png": "[encoded data removed]",
      "text/plain": [
       "<Figure size 432x288 with 1 Axes>"
      ]
     },
     "metadata": {
      "needs_background": "light"
     },
     "output_type": "display_data"
    }
   ],
   "source": [
    "plt.hist(df[df['gender'] == 0]['count_with_this_id'], label='Female')\n",
    "plt.hist(df[df['gender'] == 1]['count_with_this_id'], label='Male')\n",
    "plt.show()\n",
    "# plt.hist(df[df['gender'] == 1])"
   ]
  },
  {
   "cell_type": "markdown",
   "metadata": {},
   "source": [
    "# look at id stats"
   ]
  },
  {
   "cell_type": "code",
   "execution_count": 116,
   "metadata": {},
   "outputs": [
    {
     "data": {
      "image/png": "[encoded data removed]",
      "text/plain": [
       "<Figure size 432x288 with 1 Axes>"
      ]
     },
     "metadata": {
      "needs_background": "light"
     },
     "output_type": "display_data"
    }
   ],
   "source": [
    "plt.grid(zorder=-1)\n",
    "plt.hist(df['count_with_this_id'], bins=20, zorder=3)\n",
    "plt.xlabel('number of images with same id\\nin celeb-a-hq (30k images)')\n",
    "plt.ylabel('count')\n",
    "plt.show()"
   ]
  },
  {
   "cell_type": "code",
   "execution_count": 117,
   "metadata": {},
   "outputs": [
    {
     "data": {
      "text/html": [
       "<div>\n",
       "<style scoped>\n",
       "    .dataframe tbody tr th:only-of-type {\n",
       "        vertical-align: middle;\n",
       "    }\n",
       "\n",
       "    .dataframe tbody tr th {\n",
       "        vertical-align: top;\n",
       "    }\n",
       "\n",
       "    .dataframe thead th {\n",
       "        text-align: right;\n",
       "    }\n",
       "</style>\n",
       "<table border=\"1\" class=\"dataframe\">\n",
       "  <thead>\n",
       "    <tr style=\"text-align: right;\">\n",
       "      <th></th>\n",
       "      <th>idx</th>\n",
       "      <th>orig_idx</th>\n",
       "      <th>orig_file</th>\n",
       "      <th>proc_md5</th>\n",
       "      <th>final_md5</th>\n",
       "      <th>id</th>\n",
       "      <th>fname_final</th>\n",
       "      <th>count_with_this_id</th>\n",
       "      <th>gender</th>\n",
       "      <th>hair-length</th>\n",
       "      <th>facial-hair</th>\n",
       "      <th>makeup</th>\n",
       "      <th>skin-color</th>\n",
       "      <th>age</th>\n",
       "    </tr>\n",
       "  </thead>\n",
       "  <tbody>\n",
       "    <tr>\n",
       "      <th>0</th>\n",
       "      <td>0</td>\n",
       "      <td>119613</td>\n",
       "      <td>119614.jpg</td>\n",
       "      <td>0be7e162e25c06f50dd5c1090007f2cf</td>\n",
       "      <td>d76ed3e87c8bc20f82757a2dd95026ba</td>\n",
       "      <td>7423</td>\n",
       "      <td>00001.jpg</td>\n",
       "      <td>6</td>\n",
       "      <td>0</td>\n",
       "      <td>1</td>\n",
       "      <td>1</td>\n",
       "      <td>1</td>\n",
       "      <td>0</td>\n",
       "      <td>0</td>\n",
       "    </tr>\n",
       "    <tr>\n",
       "      <th>1</th>\n",
       "      <td>1</td>\n",
       "      <td>99094</td>\n",
       "      <td>099095.jpg</td>\n",
       "      <td>1e2d301e9b3d1b64b2e560243b5c109c</td>\n",
       "      <td>c391ae358c1a00e715982050b6446109</td>\n",
       "      <td>7319</td>\n",
       "      <td>00002.jpg</td>\n",
       "      <td>3</td>\n",
       "      <td>0</td>\n",
       "      <td>1</td>\n",
       "      <td>1</td>\n",
       "      <td>1</td>\n",
       "      <td>0</td>\n",
       "      <td>0</td>\n",
       "    </tr>\n",
       "    <tr>\n",
       "      <th>2</th>\n",
       "      <td>2</td>\n",
       "      <td>200121</td>\n",
       "      <td>200122.jpg</td>\n",
       "      <td>99aa914661dc10dfbaf14579757f6ab8</td>\n",
       "      <td>a131f037e52aa1011a90cf78f7b0cd88</td>\n",
       "      <td>6632</td>\n",
       "      <td>00003.jpg</td>\n",
       "      <td>12</td>\n",
       "      <td>0</td>\n",
       "      <td>1</td>\n",
       "      <td>1</td>\n",
       "      <td>0</td>\n",
       "      <td>0</td>\n",
       "      <td>0</td>\n",
       "    </tr>\n",
       "    <tr>\n",
       "      <th>3</th>\n",
       "      <td>3</td>\n",
       "      <td>81059</td>\n",
       "      <td>081060.jpg</td>\n",
       "      <td>ff2a42ed253c393c3cebe37c456c47fb</td>\n",
       "      <td>9908aba4e7dbee68224726dd97ee21fa</td>\n",
       "      <td>3338</td>\n",
       "      <td>00004.jpg</td>\n",
       "      <td>6</td>\n",
       "      <td>0</td>\n",
       "      <td>1</td>\n",
       "      <td>1</td>\n",
       "      <td>1</td>\n",
       "      <td>0</td>\n",
       "      <td>0</td>\n",
       "    </tr>\n",
       "    <tr>\n",
       "      <th>4</th>\n",
       "      <td>4</td>\n",
       "      <td>202040</td>\n",
       "      <td>202041.jpg</td>\n",
       "      <td>8a249cfe4671d3f53eba90c6f1762005</td>\n",
       "      <td>464440733a22e53073575cd4081f5501</td>\n",
       "      <td>9178</td>\n",
       "      <td>00005.jpg</td>\n",
       "      <td>14</td>\n",
       "      <td>0</td>\n",
       "      <td>1</td>\n",
       "      <td>1</td>\n",
       "      <td>0</td>\n",
       "      <td>0</td>\n",
       "      <td>0</td>\n",
       "    </tr>\n",
       "  </tbody>\n",
       "</table>\n",
       "</div>"
      ],
      "text/plain": [
       "   idx  orig_idx   orig_file                          proc_md5  \\\n",
       "0    0    119613  119614.jpg  0be7e162e25c06f50dd5c1090007f2cf   \n",
       "1    1     99094  099095.jpg  1e2d301e9b3d1b64b2e560243b5c109c   \n",
       "2    2    200121  200122.jpg  99aa914661dc10dfbaf14579757f6ab8   \n",
       "3    3     81059  081060.jpg  ff2a42ed253c393c3cebe37c456c47fb   \n",
       "4    4    202040  202041.jpg  8a249cfe4671d3f53eba90c6f1762005   \n",
       "\n",
       "                          final_md5    id fname_final  count_with_this_id  \\\n",
       "0  d76ed3e87c8bc20f82757a2dd95026ba  7423   00001.jpg                   6   \n",
       "1  c391ae358c1a00e715982050b6446109  7319   00002.jpg                   3   \n",
       "2  a131f037e52aa1011a90cf78f7b0cd88  6632   00003.jpg                  12   \n",
       "3  9908aba4e7dbee68224726dd97ee21fa  3338   00004.jpg                   6   \n",
       "4  464440733a22e53073575cd4081f5501  9178   00005.jpg                  14   \n",
       "\n",
       "   gender  hair-length  facial-hair  makeup  skin-color  age  \n",
       "0       0            1            1       1           0    0  \n",
       "1       0            1            1       1           0    0  \n",
       "2       0            1            1       0           0    0  \n",
       "3       0            1            1       1           0    0  \n",
       "4       0            1            1       0           0    0  "
      ]
     },
     "execution_count": 117,
     "metadata": {},
     "output_type": "execute_result"
    }
   ],
   "source": [
    "ids.head()"
   ]
  },
  {
   "cell_type": "markdown",
   "metadata": {},
   "source": [
    "# let's do some GAN space matching"
   ]
  },
  {
   "cell_type": "code",
   "execution_count": 20,
   "metadata": {},
   "outputs": [],
   "source": [
    "DIR_ORIG = '../data/celeba-hq/ims/'\n",
    "IM_NUMS = np.arange(1, 100)\n",
    "\n",
    "DIRS_GEN = '../data_processed/celeba-hq/'\n",
    "reg = 0.1\n",
    "DIR_GEN = oj(DIRS_GEN, f'generated_images_{reg}')"
   ]
  },
  {
   "cell_type": "code",
   "execution_count": 31,
   "metadata": {},
   "outputs": [],
   "source": [
    "latents_fnames = [f for f in sorted(os.listdir(DIR_GEN)) if 'npy' in f]\n",
    "latents = np.array([np.load(oj(DIR_GEN, f)) for f in latents_fnames[:IM_NUMS.size]])"
   ]
  },
  {
   "cell_type": "markdown",
   "metadata": {},
   "source": [
    "**can match in style space or extended style space**"
   ]
  },
  {
   "cell_type": "code",
   "execution_count": 41,
   "metadata": {},
   "outputs": [],
   "source": [
    "lat = latents.mean(axis=1) # match in style space\n",
    "# lat = latents.reshape(latents.shape[0], -1) # match in extended style space"
   ]
  },
  {
   "cell_type": "markdown",
   "metadata": {},
   "source": [
    "**can match on different metrics**"
   ]
  },
  {
   "cell_type": "code",
   "execution_count": 44,
   "metadata": {},
   "outputs": [],
   "source": [
    "# calculate distances: (points, points)\n",
    "# dists = sklearn.metrics.pairwise_distances(lat, metric='cosine') # cosine dist\n",
    "dists = sklearn.metrics.pairwise_distances(lat, metric='l2') # cosine dist\n",
    "# sns.clustermap(dists)"
   ]
  },
  {
   "cell_type": "code",
   "execution_count": null,
   "metadata": {},
   "outputs": [],
   "source": [
    "for im_num in IM_NUMS[:3]:\n",
    "    im_orig = mpimg.imread(oj(DIR_ORIG, f'{im_num:05}.jpg'))\n",
    "    im_rec = mpimg.imread(oj(DIR_GEN, f'{im_num:05}.png'))\n",
    "    util.imshow(im_orig)\n",
    "    plt.show()\n",
    "    util.imshow(im_rec)\n",
    "    plt.show()"
   ]
  },
  {
   "cell_type": "code",
   "execution_count": null,
   "metadata": {},
   "outputs": [],
   "source": []
  }
 ],
 "metadata": {
  "kernelspec": {
   "display_name": "Environment (conda_python3)",
   "language": "python",
   "name": "conda_python3"
  },
  "language_info": {
   "codemirror_mode": {
    "name": "ipython",
    "version": 3
   },
   "file_extension": ".py",
   "mimetype": "text/x-python",
   "name": "python",
   "nbconvert_exporter": "python",
   "pygments_lexer": "ipython3",
   "version": "3.6.10"
  }
 },
 "nbformat": 4,
 "nbformat_minor": 4
}
