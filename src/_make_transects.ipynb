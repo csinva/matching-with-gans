{
 "cells": [
  {
   "cell_type": "code",
   "execution_count": null,
   "metadata": {},
   "outputs": [],
   "source": [
    "import sys\n",
    "import os\n",
    "import pickle\n",
    "import numpy as np\n",
    "# import ganwrapper\n",
    "import gan_helper\n",
    "import imageio\n",
    "import itertools\n",
    "from argparse import ArgumentParser\n",
    "\n",
    "\n",
    "def projectToBoundary(X, planes, n_iter=100):\n",
    "    n_planes = len(planes)\n",
    "\n",
    "    if n_planes == 1:\n",
    "        return projectToPlane(X, planes[0].coef_, planes[0].intercept_)\n",
    "\n",
    "    # Iterative procedure for getting to boundary\n",
    "    for i in range(n_iter):\n",
    "        plane = planes[i % n_planes]\n",
    "        X = projectToPlane(X, plane.coef_, plane.intercept_)\n",
    "\n",
    "    return X   \n",
    "\n",
    "\n",
    "def projectToPlane(X, w, b):\n",
    "    w, b = w.copy(), b.copy()\n",
    "\n",
    "    # Get and normalize coefficients\n",
    "    b = b/np.linalg.norm(w)\n",
    "    w = normalize(w)\n",
    "\n",
    "    # Project points back to hyperplane, decision value = 0\n",
    "    d = np.sum(w * X, -1) + b\n",
    "\n",
    "    return X - w * np.expand_dims(d, 1)\n",
    "\n",
    "\n",
    "def orthogonalize(v0, planes):\n",
    "\n",
    "    A = np.zeros((max(v0.shape), len(planes)))\n",
    "    for i,h in enumerate(planes):\n",
    "        A[:, i] = h.coef_\n",
    "    Q,R = np.linalg.qr(A)\n",
    "\n",
    "    u = v0.copy()\n",
    "    for i in range(len(planes)):\n",
    "        u -= proj(Q[:,i], u)\n",
    "\n",
    "    return normalize(u)\n",
    "    \n",
    "\n",
    "def normalize(u):\n",
    "    return u/np.linalg.norm(u)\n",
    "\n",
    "\n",
    "def proj(u, v):\n",
    "    return u * np.sum(u * v) / np.sum( u * u)\n"
   ]
  },
  {
   "cell_type": "code",
   "execution_count": 2,
   "metadata": {},
   "outputs": [],
   "source": [
    "parser = ArgumentParser()\n",
    "parser.add_argument('--gpu', type=int)\n",
    "parser.add_argument('--attr', type=str, nargs='+', help='Attributes (specified in letters)')\n",
    "parser.add_argument('--L', type=int, nargs='+', help='transect dimensions')\n",
    "parser.add_argument('--lims', type=float, nargs='+')\n",
    "parser.add_argument('--gan', type=int, default=1)\n",
    "parser.add_argument('--version', type=int, default=1, help='Version number for saving files')\n",
    "parser.add_argument('--orth', type=int, default=1, help='1 to use orthogonalization, 0 otherwise')\n",
    "parser.add_argument('--N', type=int, help='number of transects')\n",
    "\n",
    "config = parser.parse_args('')\n",
    "\n",
    "np.random.seed(2) #2\n"
   ]
  },
  {
   "cell_type": "code",
   "execution_count": 32,
   "metadata": {},
   "outputs": [],
   "source": [
    "config.attr = 'HAGCBMSEW'\n",
    "config.lims = [-1, 1, -1, 1, -1, 1]\n",
    "config.L = [0, 1, 2]\n",
    "config.N = 10"
   ]
  },
  {
   "cell_type": "code",
   "execution_count": 33,
   "metadata": {},
   "outputs": [
    {
     "name": "stdout",
     "output_type": "stream",
     "text": [
      "Loading networks from \"gdrive:networks/stylegan2-ffhq-config-f.pkl\"...\n"
     ]
    }
   ],
   "source": [
    "\n",
    "\n",
    "#     base_dir  = \"/data/vision/billf/scratch/balakg/amn\"\n",
    "model_dir = '../data/annotation-dataset-stylegan2/linear_models/new' #\"./results/latent-models/\" #\"%s/latent-models/v%d\" % (base_dir, config.gan)\n",
    "seed_path = '../data/annotation-dataset-stylegan2/data/W.npy' # #\"%s/annotation-data-%d/W.npy\" % (base_dir, config.gan)\n",
    "save_dir  = \"./results/\" #\"%s/transects/v%d/%s\" % (base_dir, config.gan, '-'.join(config.attr))\n",
    "\n",
    "#model_dir = \"%s/latent-models/v%d\" % (base_dir, config.gan)\n",
    "#seed_path = \"%s/annotation-data-%d/W.npy\" % (base_dir, config.gan)\n",
    "#save_dir  = \"%s/transects/v%d/%s\" % (base_dir, config.gan, '-'.join(config.attr))\n",
    "\n",
    "batch     = 1 \n",
    "all_attrs = 'HAGCBMSEW'\n",
    "\n",
    "#     os.environ[\"CUDA_VISIBLE_DEVICES\"] = str(config.gpu)\n",
    "if not os.path.exists(save_dir):\n",
    "    os.makedirs(save_dir)\n",
    "\n",
    "# Get GAN\n",
    "G = gan_helper.Generator() # initializes gan\n",
    "#     G = ganwrapper.GANWrapper(version = config.gan, image_size=512)\n",
    "z_dim = 512 # G.Gs.input_shape[1]"
   ]
  },
  {
   "cell_type": "code",
   "execution_count": 34,
   "metadata": {},
   "outputs": [
    {
     "name": "stderr",
     "output_type": "stream",
     "text": [
      "/home/ubuntu/anaconda3/envs/python3/lib/python3.6/site-packages/sklearn/base.py:318: UserWarning: Trying to unpickle estimator Ridge from version 0.21.3 when using version 0.22.1. This might lead to breaking code or invalid results. Use at your own risk.\n",
      "  UserWarning)\n",
      "/home/ubuntu/anaconda3/envs/python3/lib/python3.6/site-packages/sklearn/base.py:318: UserWarning: Trying to unpickle estimator LinearSVC from version 0.21.3 when using version 0.22.1. This might lead to breaking code or invalid results. Use at your own risk.\n",
      "  UserWarning)\n"
     ]
    },
    {
     "ename": "IndexError",
     "evalue": "list index out of range",
     "output_type": "error",
     "traceback": [
      "\u001b[0;31m---------------------------------------------------------------------------\u001b[0m",
      "\u001b[0;31mIndexError\u001b[0m                                Traceback (most recent call last)",
      "\u001b[0;32m<ipython-input-34-b1aad65ecc3a>\u001b[0m in \u001b[0;36m<module>\u001b[0;34m\u001b[0m\n\u001b[1;32m     32\u001b[0m         \u001b[0mdirs\u001b[0m\u001b[0;34m.\u001b[0m\u001b[0mappend\u001b[0m\u001b[0;34m(\u001b[0m\u001b[0mv\u001b[0m\u001b[0;34m)\u001b[0m\u001b[0;34m\u001b[0m\u001b[0;34m\u001b[0m\u001b[0m\n\u001b[1;32m     33\u001b[0m \u001b[0;34m\u001b[0m\u001b[0m\n\u001b[0;32m---> 34\u001b[0;31m     \u001b[0mdists\u001b[0m \u001b[0;34m=\u001b[0m \u001b[0mnp\u001b[0m\u001b[0;34m.\u001b[0m\u001b[0mlinspace\u001b[0m\u001b[0;34m(\u001b[0m\u001b[0mconfig\u001b[0m\u001b[0;34m.\u001b[0m\u001b[0mlims\u001b[0m\u001b[0;34m[\u001b[0m\u001b[0mi\u001b[0m\u001b[0;34m*\u001b[0m\u001b[0;36m2\u001b[0m\u001b[0;34m]\u001b[0m\u001b[0;34m,\u001b[0m \u001b[0mconfig\u001b[0m\u001b[0;34m.\u001b[0m\u001b[0mlims\u001b[0m\u001b[0;34m[\u001b[0m\u001b[0mi\u001b[0m\u001b[0;34m*\u001b[0m\u001b[0;36m2\u001b[0m\u001b[0;34m+\u001b[0m\u001b[0;36m1\u001b[0m\u001b[0;34m]\u001b[0m\u001b[0;34m,\u001b[0m \u001b[0mconfig\u001b[0m\u001b[0;34m.\u001b[0m\u001b[0mL\u001b[0m\u001b[0;34m[\u001b[0m\u001b[0mi\u001b[0m\u001b[0;34m]\u001b[0m\u001b[0;34m)\u001b[0m\u001b[0;34m\u001b[0m\u001b[0;34m\u001b[0m\u001b[0m\n\u001b[0m\u001b[1;32m     35\u001b[0m     \u001b[0mpoints\u001b[0m\u001b[0;34m.\u001b[0m\u001b[0mappend\u001b[0m\u001b[0;34m(\u001b[0m\u001b[0;34m[\u001b[0m \u001b[0;34m(\u001b[0m\u001b[0mt\u001b[0m\u001b[0;34m/\u001b[0m\u001b[0mnorm\u001b[0m\u001b[0;34m)\u001b[0m \u001b[0;34m/\u001b[0m \u001b[0mscale\u001b[0m \u001b[0;32mfor\u001b[0m \u001b[0mt\u001b[0m \u001b[0;32min\u001b[0m \u001b[0mdists\u001b[0m \u001b[0;34m]\u001b[0m\u001b[0;34m)\u001b[0m\u001b[0;34m\u001b[0m\u001b[0;34m\u001b[0m\u001b[0m\n\u001b[1;32m     36\u001b[0m     \u001b[0mgrid_planes\u001b[0m\u001b[0;34m.\u001b[0m\u001b[0mappend\u001b[0m\u001b[0;34m(\u001b[0m\u001b[0mplane\u001b[0m\u001b[0;34m)\u001b[0m\u001b[0;34m\u001b[0m\u001b[0;34m\u001b[0m\u001b[0m\n",
      "\u001b[0;31mIndexError\u001b[0m: list index out of range"
     ]
    }
   ],
   "source": [
    "\n",
    "\n",
    "# Load models\n",
    "planes = []\n",
    "for a in all_attrs:\n",
    "    filename = os.path.join(model_dir, a + \"_W.pkl\")\n",
    "    with open(filename, 'rb') as pickle_file:\n",
    "        data = pickle.load(pickle_file)\n",
    "\n",
    "        # LinearSVC and RidgeCV save hyperplanes slightly differently\n",
    "        if len(data.coef_.shape) == 1:\n",
    "            data.coef_ = np.expand_dims(data.coef_, 0)\n",
    "            data.intercept_ = np.expand_dims(data.intercept_, 0)\n",
    "\n",
    "        planes.append(data)\n",
    "\n",
    "# Get attribute normal vectors and step sizes\n",
    "dirs = []  # Direction vectors\n",
    "points = [] # Distances from hyperplanes to query\n",
    "grid_planes = [] # Hyperplanes for grid attributes\n",
    "\n",
    "for i in range( len(config.attr) ):\n",
    "    idx = all_attrs.index( config.attr[i] )\n",
    "    plane = planes[idx]\n",
    "    v = normalize(plane.coef_)\n",
    "    norm = np.linalg.norm(plane.coef_)\n",
    "\n",
    "    if config.orth:\n",
    "        v_orth = orthogonalize(v, planes[0:idx] + planes[idx+1:])\n",
    "        scale = np.sum(v * v_orth) # Need to change point spacing to account for altered direction.\n",
    "        dirs.append(v_orth)\n",
    "    else:\n",
    "        scale = 1\n",
    "        dirs.append(v)\n",
    "\n",
    "    dists = np.linspace(config.lims[i*2], config.lims[i*2+1], config.L[i]) \n",
    "    points.append([ (t/norm) / scale for t in dists ])\n",
    "    grid_planes.append(plane)\n",
    "\n",
    "\n",
    "# Create the ND-grid. Need to reverse x,y ordering...something to do with saving\n",
    "# the images with the right ordering.\n",
    "grids = np.meshgrid( *(points[0:2][::-1] + points[2:])  )\n",
    "dirs  = dirs[0:2][::-1] + dirs[2:]"
   ]
  },
  {
   "cell_type": "code",
   "execution_count": 31,
   "metadata": {},
   "outputs": [
    {
     "data": {
      "text/plain": [
       "(0, 1, 2)"
      ]
     },
     "execution_count": 31,
     "metadata": {},
     "output_type": "execute_result"
    }
   ],
   "source": [
    "grids[0].shape"
   ]
  },
  {
   "cell_type": "code",
   "execution_count": 29,
   "metadata": {},
   "outputs": [
    {
     "data": {
      "text/plain": [
       "[array([], shape=(0, 1, 2, 512), dtype=float64),\n",
       " array([], shape=(0, 1, 2, 512), dtype=float64),\n",
       " array([], shape=(0, 1, 2, 512), dtype=float64)]"
      ]
     },
     "execution_count": 29,
     "metadata": {},
     "output_type": "execute_result"
    }
   ],
   "source": [
    "[np.expand_dims(dirs[i], 0) * np.expand_dims(grids[i], -1) \n",
    "                for i in range(len(grids)) ]"
   ]
  },
  {
   "cell_type": "code",
   "execution_count": null,
   "metadata": {},
   "outputs": [],
   "source": [
    "\n",
    "# Offset vectors from boundary in latent space\n",
    "deltas = sum([np.expand_dims(dirs[i], 0) * np.expand_dims(grids[i], -1) \n",
    "                for i in range(len(grids)) ] )\n",
    "deltas = np.reshape(deltas, (-1, z_dim), 'F')\n",
    "print('deltas.shape', deltas.shape)\n",
    "n_batch = config.N//batch\n",
    "\n",
    "# Transect creation loop.\n",
    "for i in range(config.N):\n",
    "    print(i, n_batch, deltas, flush=True)\n",
    "\n",
    "    # Draw random z\n",
    "    z = np.random.randn(1, z_dim)\n",
    "    # W_i = G.getStyle(z)\n",
    "    W_i = z\n",
    "\n",
    "    # Project onto intersection of attribute hyperplanes\n",
    "    W0 = projectToBoundary(W_i, grid_planes) #W_all[i], grid_planes)\n",
    "\n",
    "    for j, delta in enumerate(deltas):\n",
    "        \n",
    "        W = W0 + delta\n",
    "\n",
    "        img = G.generateImageFromStyle(W)\n",
    "        img = (img * 255).astype(np.uint8)\n",
    "\n",
    "        for k in range(batch):\n",
    "\n",
    "            # Save image.\n",
    "            ex_num = i #* batch + k \n",
    "\n",
    "            # Filename: version + seed face + attrs\n",
    "            fname = '%s/%.2d_%.4d' % (save_dir, config.version, ex_num)\n",
    "            idx = np.unravel_index(j, config.L, 'F')\n",
    "\n",
    "            for a,b in zip(config.attr, idx):\n",
    "                fname += '_' + a + str(int(b))\n",
    "\n",
    "            fname += '.jpg' \n",
    "            imageio.imwrite(fname, img[k, ...]) \n",
    "\n",
    "            #print(p, fname, flush=True)"
   ]
  }
 ],
 "metadata": {
  "kernelspec": {
   "display_name": "Environment (conda_python3)",
   "language": "python",
   "name": "conda_python3"
  },
  "language_info": {
   "codemirror_mode": {
    "name": "ipython",
    "version": 3
   },
   "file_extension": ".py",
   "mimetype": "text/x-python",
   "name": "python",
   "nbconvert_exporter": "python",
   "pygments_lexer": "ipython3",
   "version": "3.6.10"
  }
 },
 "nbformat": 4,
 "nbformat_minor": 4
}
