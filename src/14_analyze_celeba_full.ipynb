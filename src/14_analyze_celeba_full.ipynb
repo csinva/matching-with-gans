{
 "cells": [
  {
   "cell_type": "code",
   "execution_count": 10,
   "metadata": {},
   "outputs": [
    {
     "name": "stdout",
     "output_type": "stream",
     "text": [
      "The autoreload extension is already loaded. To reload it, use:\n",
      "  %reload_ext autoreload\n",
      "loading...\n",
      "done loading!\n"
     ]
    }
   ],
   "source": [
    "%load_ext autoreload\n",
    "%autoreload 2\n",
    "import sys\n",
    "import numpy as np\n",
    "import PIL.Image\n",
    "import matplotlib.pyplot as plt\n",
    "from os.path import join as oj\n",
    "import pandas as pd\n",
    "import pickle as pkl\n",
    "import models\n",
    "import util\n",
    "import os\n",
    "import config\n",
    "from config import ATTR_TO_INDEX\n",
    "import viz\n",
    "import scipy.stats\n",
    "from tqdm import tqdm\n",
    "import figs\n",
    "import matplotlib.image as mpimg\n",
    "import seaborn as sns\n",
    "import data\n",
    "CELEB_IMS_DIR = '../data/celeba-hq/ims/'\n",
    "CELEB_ANNO_DIR = '../data/celeba-hq/Anno/'\n",
    "\n",
    "\n",
    "# load and merge all the data\n",
    "print('loading...')\n",
    "df = data.load_ids()\n",
    "labs, labs_full = data.load_labs()\n",
    "for k in labs.keys():\n",
    "    df[k] = labs[k].values\n",
    "for k in labs_full.keys():\n",
    "    df[k] = labs_full[k].values\n",
    "print('done loading!')"
   ]
  },
  {
   "cell_type": "markdown",
   "metadata": {},
   "source": [
    "## show some celeb ims"
   ]
  },
  {
   "cell_type": "code",
   "execution_count": 6,
   "metadata": {},
   "outputs": [],
   "source": [
    "ims = np.array([mpimg.imread(oj(CELEB_IMS_DIR, fname))\n",
    "                for fname in df.fname_final.values[:200]])"
   ]
  },
  {
   "cell_type": "code",
   "execution_count": null,
   "metadata": {},
   "outputs": [],
   "source": [
    "util.plot_grid(ims.reshape(8, 25, *ims.shape[1:]))"
   ]
  },
  {
   "cell_type": "code",
   "execution_count": null,
   "metadata": {},
   "outputs": [],
   "source": [
    "N_CELEBS = 6\n",
    "d = df[df['count_with_this_id'] > 20]\n",
    "# d = d[d['skin-color'] == 0] # filter by skin color\n",
    "# d = d[d['gender'] == 1] # filter by skin color\n",
    "\n",
    "for i in d['id'].unique()[:N_CELEBS]:\n",
    "    ids = d[d.id == i]\n",
    "#     print(ids.shape)\n",
    "    ims = np.array([mpimg.imread(oj(CELEB_IMS_DIR, fname))\n",
    "                    for fname in ids.fname_final.values])\n",
    "#     print(ims.shape)\n",
    "    util.plot_row(ims)\n",
    "    plt.show()"
   ]
  },
  {
   "cell_type": "markdown",
   "metadata": {},
   "source": [
    "## look at image statistics"
   ]
  },
  {
   "cell_type": "code",
   "execution_count": null,
   "metadata": {},
   "outputs": [],
   "source": [
    "# plt.grid(zorder=-1)\n",
    "plt.hist(df[df['gender'] == 0]['count_with_this_id'], label='Female')\n",
    "plt.hist(df[df['gender'] == 1]['count_with_this_id'], label='Male', alpha=0.5)\n",
    "plt.xlabel('Number of images with same id\\nin celeb-a-hq (30k images)')\n",
    "plt.legend()\n",
    "plt.show()\n",
    "# plt.hist(df[df['gender'] == 1])"
   ]
  },
  {
   "cell_type": "markdown",
   "metadata": {},
   "source": [
    "## label correlations"
   ]
  },
  {
   "cell_type": "code",
   "execution_count": null,
   "metadata": {},
   "outputs": [],
   "source": [
    "df.columns.values"
   ]
  },
  {
   "cell_type": "code",
   "execution_count": null,
   "metadata": {},
   "outputs": [],
   "source": [
    "keys = [k for k in list(labs.keys()) + ['Eyeglasses']]\n",
    "d = df[keys]\n",
    "idxs = df['gender'] == 0\n",
    "plt.figure(dpi=500)\n",
    "viz.corrplot(d.corr())\n",
    "plt.title('Correlations')\n",
    "keys = np.array([k.capitalize() for k in keys])\n",
    "# keys = labs.columns.str.capitalize().values\n",
    "plt.xticks(np.arange(keys.size), keys, rotation='vertical')\n",
    "plt.yticks(np.arange(keys.size), keys)\n",
    "plt.colorbar()\n",
    "\n",
    "means = d.groupby('gender').mean()"
   ]
  },
  {
   "cell_type": "code",
   "execution_count": null,
   "metadata": {},
   "outputs": [],
   "source": [
    "BAR_SIZE = 0.45\n",
    "cols = [s.capitalize() for s in means.columns.values]\n",
    "plt.figure(dpi=500)\n",
    "plt.barh(np.arange(len(cols)), means.iloc[0], height=BAR_SIZE, label='F')\n",
    "plt.barh(np.arange(len(cols)) + 0.5, means.iloc[1], height=BAR_SIZE, label='M')\n",
    "plt.legend(title='Perceived gender')\n",
    "plt.yticks(np.arange(len(cols)) + BAR_SIZE / 2, cols)\n",
    "plt.xlabel('Mean value in CelebA-HQ')\n",
    "plt.show()"
   ]
  },
  {
   "cell_type": "markdown",
   "metadata": {},
   "source": [
    "## benchmarking facial dists"
   ]
  },
  {
   "cell_type": "code",
   "execution_count": 71,
   "metadata": {},
   "outputs": [
    {
     "name": "stderr",
     "output_type": "stream",
     "text": [
      "100%|██████████| 4379/4379 [00:40<00:00, 108.89it/s]\n"
     ]
    }
   ],
   "source": [
    "facial_dists = pkl.load(open(oj(config.PROCESSED_DIR, '12_facial_dists.pkl'), 'rb'))\n",
    "ks = list(labs_full.keys()) + list(labs.keys())\n",
    "vals = {\n",
    "    k: [] for k in ks\n",
    "}\n",
    "for i in tqdm(facial_dists['ids']):\n",
    "    d = df[df.id == i]\n",
    "    means = d.mean()\n",
    "    for k in ks:\n",
    "        vals[k].append(means[k])\n",
    "df_facial = pd.DataFrame.from_dict({**vals, **facial_dists} )\n",
    "df_facial.to_pickle(open(oj(config.PROCESSED_DIR, '12_facial_dists_df.pkl'), 'wb'))\n",
    "df_facial = pd.read_pickle(open(oj(config.PROCESSED_DIR, '12_facial_dists_df.pkl'), 'rb'))"
   ]
  },
  {
   "cell_type": "code",
   "execution_count": 73,
   "metadata": {},
   "outputs": [
    {
     "data": {
      "text/plain": [
       "Index(['5_o_Clock_Shadow', 'Arched_Eyebrows', 'Attractive', 'Bags_Under_Eyes',\n",
       "       'Bald', 'Bangs', 'Big_Lips', 'Big_Nose', 'Black_Hair', 'Blond_Hair',\n",
       "       'Blurry', 'Brown_Hair', 'Bushy_Eyebrows', 'Chubby', 'Double_Chin',\n",
       "       'Eyeglasses', 'Goatee', 'Gray_Hair', 'Heavy_Makeup', 'High_Cheekbones',\n",
       "       'Male', 'Mouth_Slightly_Open', 'Mustache', 'Narrow_Eyes', 'No_Beard',\n",
       "       'Oval_Face', 'Pale_Skin', 'Pointy_Nose', 'Receding_Hairline',\n",
       "       'Rosy_Cheeks', 'Sideburns', 'Smiling', 'Straight_Hair', 'Wavy_Hair',\n",
       "       'Wearing_Earrings', 'Wearing_Hat', 'Wearing_Lipstick',\n",
       "       'Wearing_Necklace', 'Wearing_Necktie', 'Young', 'gender', 'hair-length',\n",
       "       'facial-hair', 'makeup', 'skin-color', 'age', 'facial_dists', 'ids'],\n",
       "      dtype='object')"
      ]
     },
     "execution_count": 73,
     "metadata": {},
     "output_type": "execute_result"
    }
   ],
   "source": [
    "df_facial.keys()"
   ]
  },
  {
   "cell_type": "code",
   "execution_count": null,
   "metadata": {},
   "outputs": [],
   "source": [
    "attr = 'gender'\n",
    "attr_labs = ['M', 'F']\n",
    "# attr = 'Eyeglasses'\n",
    "# attr_labs = ['No', 'Yes']\n",
    "\n",
    "\n",
    "idxs_attr = (df_facial[attr] > 0.5)\n",
    "d0 = df_facial[idxs_attr]['facial_dists']\n",
    "d1 = df_facial[~idxs_attr]['facial_dists']\n",
    "plt.figure(dpi=300)\n",
    "plt.boxplot([d0, d1], vert=False, widths=0.6)\n",
    "plt.axvline(0.6, linestyle='--')\n",
    "plt.yticks(np.arange(1, 3), attr_labs)\n",
    "plt.ylabel(attr.capitalize())\n",
    "plt.xlabel('Facial distance\\n(Lower means it is working better)')\n",
    "print(f'acc {attr_labs[0]} {np.mean(d0 < 0.6):0.2f} acc {attr_labs[1]} {np.mean(d1 < 0.6):0.2f}')\n",
    "plt.show()"
   ]
  },
  {
   "cell_type": "code",
   "execution_count": 91,
   "metadata": {},
   "outputs": [],
   "source": [
    "# plt.figure(dpi=300)\n",
    "# plt.boxplot([d0[k] for k in ks], vert=False, positions=2 * np.arange(len(ks)))\n",
    "# plt.boxplot([d1[k] for k in ks], vert=False, positions=2 * np.arange(len(ks)) + 1)\n",
    "# plt.yticks(2 * np.arange(len(ks)) + 0.5, ks)\n",
    "# plt.show()"
   ]
  }
 ],
 "metadata": {
  "kernelspec": {
   "display_name": "Environment (conda_python3)",
   "language": "python",
   "name": "conda_python3"
  },
  "language_info": {
   "codemirror_mode": {
    "name": "ipython",
    "version": 3
   },
   "file_extension": ".py",
   "mimetype": "text/x-python",
   "name": "python",
   "nbconvert_exporter": "python",
   "pygments_lexer": "ipython3",
   "version": "3.6.10"
  }
 },
 "nbformat": 4,
 "nbformat_minor": 4
}
