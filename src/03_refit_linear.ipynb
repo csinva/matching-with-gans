{
 "cells": [
  {
   "cell_type": "code",
   "execution_count": 6,
   "metadata": {},
   "outputs": [
    {
     "name": "stdout",
     "output_type": "stream",
     "text": [
      "The autoreload extension is already loaded. To reload it, use:\n",
      "  %reload_ext autoreload\n"
     ]
    }
   ],
   "source": [
    "%load_ext autoreload\n",
    "%autoreload 2\n",
    "import numpy as np\n",
    "import matplotlib.pyplot as plt\n",
    "import os\n",
    "import glob\n",
    "import json\n",
    "import datetime\n",
    "import time\n",
    "import jsonlines\n",
    "from PIL import Image\n",
    "from scipy.optimize import curve_fit\n",
    "import scipy as sy\n",
    "import pickle as pkl\n",
    "import seaborn as sns\n",
    "from os.path import join as oj\n",
    "import sklearn.model_selection\n",
    "import sklearn.linear_model\n",
    "import viz\n",
    "from tqdm import tqdm\n",
    "PROCESSED_DIR = 'processed'\n",
    "DIRECTIONS_DIR = '../data/annotation-dataset-stylegan2/linear_models/new' # path to many datasets, includes on directory before the below dirs\n",
    "GENERATING_LATENTS_DIR = '../data/annotation-dataset-stylegan2/data'"
   ]
  },
  {
   "cell_type": "markdown",
   "metadata": {},
   "source": [
    "# loading"
   ]
  },
  {
   "cell_type": "markdown",
   "metadata": {},
   "source": [
    "**load gt latents**"
   ]
  },
  {
   "cell_type": "code",
   "execution_count": 2,
   "metadata": {},
   "outputs": [],
   "source": [
    "latents = np.load(oj(GENERATING_LATENTS_DIR, 'W.npy'))"
   ]
  },
  {
   "cell_type": "markdown",
   "metadata": {},
   "source": [
    "**load annotations in different directions**"
   ]
  },
  {
   "cell_type": "code",
   "execution_count": 3,
   "metadata": {},
   "outputs": [],
   "source": [
    "annotations_dict = pkl.load(open(oj(PROCESSED_DIR, '01_annotations_dict.pkl'), 'rb'))\n",
    "annotations_dict_names = pkl.load(open(oj(PROCESSED_DIR, '01_annotations_labels_dict.pkl'), 'rb'))\n",
    "\n",
    "# rename keys\n",
    "annotations_dict = {k.replace('calibration-random-v2-', '').replace('-000', ''): annotations_dict[k]\n",
    "                    for k in annotations_dict}\n",
    "attrs = ['age', 'facial-hair', 'skin-color', 'gender', 'hair-length', 'makeup']\n",
    "N = len(attrs)"
   ]
  },
  {
   "cell_type": "markdown",
   "metadata": {},
   "source": [
    "# fitting better linear models"
   ]
  },
  {
   "cell_type": "code",
   "execution_count": null,
   "metadata": {},
   "outputs": [],
   "source": [
    "X = latents\n",
    "R = 1\n",
    "C = N\n",
    "plt.figure(figsize=(C * 2, 3))\n",
    "for i, attr in tqdm(enumerate(attrs)):\n",
    "    attr_to_proj = attr\n",
    "    y = annotations_dict[attr].mean(axis=1)\n",
    "    y = (y - y.mean()) / (y.std())\n",
    "    X_train, X_test, y_train, y_test = sklearn.model_selection.train_test_split(\n",
    "        X, y, test_size=0.3, random_state=42)\n",
    "    m = sklearn.linear_model.RidgeCV()\n",
    "    m.fit(X_train, y_train)\n",
    "    pkl.dump(m, open(oj(PROCESSED_DIR, f'03_m_{attr}.pkl'), 'wb'))\n",
    "    projections = m.predict(X_test)\n",
    "    \n",
    "    plt.subplot(R, C, i + 1)\n",
    "    plt.title(attr)\n",
    "    sns.regplot(projections, y_test, marker='.', scatter_kws={'alpha': 0.05})\n",
    "    \n",
    "    if i == 0:\n",
    "        plt.ylabel('mean annotation')\n",
    "    plt.xlabel(f'proj. on {attr_to_proj}')\n",
    "#     plt.xlabel('projection onto linear direction')\n",
    "#     plt.plot(projections, mean_attr, '.')\n",
    "plt.tight_layout()"
   ]
  },
  {
   "cell_type": "markdown",
   "metadata": {},
   "source": [
    "**how independent are they**"
   ]
  },
  {
   "cell_type": "code",
   "execution_count": null,
   "metadata": {},
   "outputs": [],
   "source": [
    "R, C = N, N\n",
    "N = len(attrs)\n",
    "corr_mat = np.zeros((N, N))\n",
    "i = 0\n",
    "plt.figure(figsize=(12, 12), dpi=150)\n",
    "for r in tqdm(range(N)):\n",
    "    attr = attrs[r]\n",
    "    y = annotations_dict[attr].mean(axis=1)\n",
    "    y = (y - y.mean()) / (y.std())\n",
    "    X_train, X_test, y_train, y_test = sklearn.model_selection.train_test_split(\n",
    "        X, y, test_size=0.3, random_state=42)\n",
    "    m = sklearn.linear_model.RidgeCV()\n",
    "    m.fit(X_train, y_train)\n",
    "    \n",
    "    for c in range(N):\n",
    "        attr_test = attrs[c]\n",
    "        projections = m.predict(X_test)\n",
    "        y = annotations_dict[attr_test].mean(axis=1)\n",
    "        y = (y - y.mean()) / (y.std())\n",
    "        y_train, y_test = sklearn.model_selection.train_test_split(\n",
    "            y, test_size=0.3, random_state=42)     \n",
    "\n",
    "        plt.subplot(R, C, i + 1)\n",
    "#         if r == 0:\n",
    "#             plt.title('measure ' + attr_test)\n",
    "        if c == 0:\n",
    "            plt.ylabel('proj. on' + attr)\n",
    "        \n",
    "        sns.regplot(projections, y_test, marker='.', scatter_kws={'alpha': 0.05})\n",
    "        corr_mat[r, c] = np.corrcoef(projections, y_test)[0, 1]\n",
    "        plt.yticks([])\n",
    "        if r == N - 1:\n",
    "            plt.xlabel(f'measure {attr_test}')\n",
    "        i += 1\n",
    "plt.tight_layout() "
   ]
  },
  {
   "cell_type": "code",
   "execution_count": null,
   "metadata": {},
   "outputs": [],
   "source": [
    "plt.figure(dpi=300)\n",
    "viz.corrplot(corr_mat)\n",
    "plt.xticks(range(N), attrs, rotation='vertical')\n",
    "plt.ylabel('project on this attr')\n",
    "plt.xlabel('measure this attr')\n",
    "plt.yticks(range(N), attrs)\n",
    "plt.colorbar()\n",
    "plt.show()"
   ]
  },
  {
   "cell_type": "code",
   "execution_count": null,
   "metadata": {},
   "outputs": [],
   "source": []
  }
 ],
 "metadata": {
  "kernelspec": {
   "display_name": "Environment (conda_tensorflow_p36)",
   "language": "python",
   "name": "conda_tensorflow_p36"
  },
  "language_info": {
   "codemirror_mode": {
    "name": "ipython",
    "version": 3
   },
   "file_extension": ".py",
   "mimetype": "text/x-python",
   "name": "python",
   "nbconvert_exporter": "python",
   "pygments_lexer": "ipython3",
   "version": "3.6.10"
  }
 },
 "nbformat": 4,
 "nbformat_minor": 4
}
