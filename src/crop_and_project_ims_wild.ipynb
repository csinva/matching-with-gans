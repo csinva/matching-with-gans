{
 "cells": [
  {
   "cell_type": "code",
   "execution_count": 23,
   "metadata": {},
   "outputs": [
    {
     "name": "stdout",
     "output_type": "stream",
     "text": [
      "The autoreload extension is already loaded. To reload it, use:\n",
      "  %reload_ext autoreload\n"
     ]
    }
   ],
   "source": [
    "%load_ext autoreload\n",
    "%autoreload 2\n",
    "import sys\n",
    "import numpy as np\n",
    "import PIL.Image\n",
    "import matplotlib.pyplot as plt\n",
    "from os.path import join as oj\n",
    "import pandas as pd\n",
    "import pickle as pkl\n",
    "import sklearn.model_selection\n",
    "import models\n",
    "import util\n",
    "import os\n",
    "import config\n",
    "import viz\n",
    "import scipy.stats\n",
    "from tqdm import tqdm\n",
    "import figs\n",
    "import matplotlib.image as mpimg\n",
    "import seaborn as sns\n",
    "import face_recognition\n",
    "import dlib\n",
    "from PIL import Image\n",
    "from skimage import io\n",
    "import scipy.misc\n",
    "import matplotlib.pyplot as plt"
   ]
  },
  {
   "cell_type": "code",
   "execution_count": 33,
   "metadata": {},
   "outputs": [],
   "source": [
    "def detect_faces(image):\n",
    "\n",
    "    # Create a face detector\n",
    "    face_detector = dlib.get_frontal_face_detector()\n",
    "\n",
    "    # Run detector and get bounding boxes of the faces on image.\n",
    "    detected_faces = face_detector(image, 1)\n",
    "    face_frames = [(x.left(), x.top(),\n",
    "                    x.right(), x.bottom()) for x in detected_faces]\n",
    "\n",
    "    return face_frames\n",
    "\n",
    "# Load image\n",
    "def crop_and_resize_ims(dir_base='../data/pilot-our-images/',\n",
    "                        dir_out_base='../data_processed/pilot-our-images'):\n",
    "    for folder in os.listdir(dir_base):\n",
    "        dir_in = oj(dir_base, folder)\n",
    "        dir_out = oj(dir_out_base, folder)\n",
    "        os.makedirs(dir_out, exist_ok=True)\n",
    "\n",
    "        im_num = 0\n",
    "        for fname in sorted(os.listdir(dir_in)):\n",
    "            if '.jpg' in fname:\n",
    "                img_path = oj(dir_in, fname)\n",
    "                image = io.imread(img_path)\n",
    "\n",
    "                # Detect faces\n",
    "                detected_faces = detect_faces(image)\n",
    "                if len(detected_faces) > 0:\n",
    "\n",
    "                    # Crop faces and plot\n",
    "                    face_rect = detected_faces[0]\n",
    "                    im_face = Image.fromarray(image).crop(face_rect)\n",
    "                    dim_min = min(im_face.width, im_face.height)\n",
    "                    im_face = im_face.crop((0, 0, dim_min, dim_min)) # im_face[:dim_min, :dim_min]\n",
    "                    im_face = im_face.resize((1024, 1024))\n",
    "\n",
    "                    # save\n",
    "                    out_fname = oj(dir_out, f'{folder}_{im_num:03d}.jpg')\n",
    "                    im_face.save(out_fname)\n",
    "                    im_num += 1\n",
    "crop_and_resize_ims()        "
   ]
  },
  {
   "cell_type": "code",
   "execution_count": null,
   "metadata": {},
   "outputs": [],
   "source": []
  }
 ],
 "metadata": {
  "kernelspec": {
   "display_name": "Environment (conda_python3)",
   "language": "python",
   "name": "conda_python3"
  },
  "language_info": {
   "codemirror_mode": {
    "name": "ipython",
    "version": 3
   },
   "file_extension": ".py",
   "mimetype": "text/x-python",
   "name": "python",
   "nbconvert_exporter": "python",
   "pygments_lexer": "ipython3",
   "version": "3.6.10"
  }
 },
 "nbformat": 4,
 "nbformat_minor": 4
}
