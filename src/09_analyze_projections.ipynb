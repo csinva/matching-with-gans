{
 "cells": [
  {
   "cell_type": "code",
   "execution_count": 1,
   "metadata": {},
   "outputs": [],
   "source": [
    "%load_ext autoreload\n",
    "%autoreload 2\n",
    "import sys\n",
    "import numpy as np\n",
    "import PIL.Image\n",
    "import matplotlib.pyplot as plt\n",
    "from os.path import join as oj\n",
    "import pandas as pd\n",
    "import pickle as pkl\n",
    "import sklearn.model_selection\n",
    "import models\n",
    "import util\n",
    "import os\n",
    "import config\n",
    "import viz\n",
    "import scipy.stats\n",
    "from tqdm import tqdm\n",
    "import figs\n",
    "import matplotlib.image as mpimg"
   ]
  },
  {
   "cell_type": "markdown",
   "metadata": {},
   "source": [
    "# Look at stylegan-generated images"
   ]
  },
  {
   "cell_type": "code",
   "execution_count": 2,
   "metadata": {},
   "outputs": [],
   "source": [
    "DIR_ORIG = '../data/annotation-dataset-stylegan2/images'\n",
    "DIRS_STYLEGAN = '../data_processed/stylegan2'\n"
   ]
  },
  {
   "cell_type": "code",
   "execution_count": 3,
   "metadata": {},
   "outputs": [],
   "source": [
    "regs = [0, 0.1, 1, 10000]\n",
    "IM_NUMS = [0, 1, 10]"
   ]
  },
  {
   "cell_type": "code",
   "execution_count": null,
   "metadata": {},
   "outputs": [],
   "source": [
    "plt.figure(dpi=300)\n",
    "R, C = len(IM_NUMS), 1 + len(regs)\n",
    "for r, IM_NUM in enumerate(IM_NUMS):\n",
    "    ims = []\n",
    "    latents = []\n",
    "    im_orig = mpimg.imread(oj(DIR_ORIG, f'{IM_NUM}.jpg'))\n",
    "    for reg in regs:\n",
    "        folder = f'generated_images_{reg}'\n",
    "        im_fname = oj(DIRS_STYLEGAN, folder, f'{IM_NUM}.png')\n",
    "        ims.append(mpimg.imread(im_fname))\n",
    "        latents.append(np.load(oj(DIRS_STYLEGAN, folder, f'{IM_NUM}.npy')))\n",
    "        print(np.mean(np.abs(np.corrcoef(latents[-1]))))\n",
    "\n",
    "    \n",
    "    plt.subplot(R, C, C * r + 1)\n",
    "    util.imshow(im_orig)\n",
    "\n",
    "    for i in range(len(regs)):\n",
    "        plt.subplot(R, C, C * r + 2 + i)\n",
    "        util.imshow(ims[i])"
   ]
  },
  {
   "cell_type": "markdown",
   "metadata": {},
   "source": [
    "# Look at CELEB-A"
   ]
  },
  {
   "cell_type": "code",
   "execution_count": 5,
   "metadata": {},
   "outputs": [],
   "source": [
    "DIR_ORIG_CELEBA = '../data/CelebA/Img/img_align_celeba'\n",
    "DIR_SQUARE_CELEBA = '../data/CelebA/Img/img_square_celeba'"
   ]
  },
  {
   "cell_type": "markdown",
   "metadata": {},
   "source": [
    "**need to first preprocess celeba to be square before running the pipeline**"
   ]
  },
  {
   "cell_type": "code",
   "execution_count": null,
   "metadata": {},
   "outputs": [],
   "source": [
    "for fname in tqdm(sorted(os.listdir(DIR_ORIG_CELEBA))):\n",
    "    if '.jpg' in fname:\n",
    "        im = mpimg.imread(oj(DIR_ORIG_CELEBA, fname))\n",
    "        if not im.shape[0] == im.shape[1]:\n",
    "            im = im[20:-20]\n",
    "        plt.imsave(oj(DIR_SQUARE_CELEBA, fname), im)"
   ]
  },
  {
   "cell_type": "markdown",
   "metadata": {},
   "source": [
    "# look at celeba-hq"
   ]
  },
  {
   "cell_type": "code",
   "execution_count": 46,
   "metadata": {},
   "outputs": [],
   "source": [
    "DIR_ORIG = '../data/celeba-hq/ims/'\n",
    "DIRS_GEN = '../data_processed/celeba-hq/'\n",
    "regs = [0, 0.1, 1, 10000]\n",
    "IM_NUMS = np.arange(6, 10)"
   ]
  },
  {
   "cell_type": "code",
   "execution_count": null,
   "metadata": {},
   "outputs": [],
   "source": [
    "R, C = len(IM_NUMS), 1 + len(regs)\n",
    "plt.figure(dpi=120, figsize=(C*2.5, R*2.5))\n",
    "for r, IM_NUM in enumerate(IM_NUMS):\n",
    "    ims = []\n",
    "    latents = []\n",
    "    im_orig = mpimg.imread(oj(DIR_ORIG, f'{IM_NUM:05}.jpg'))\n",
    "    for reg in regs:\n",
    "        folder = f'generated_images_{reg}'\n",
    "        im_fname = oj(DIRS_GEN, folder, f'{IM_NUM:05}.png')\n",
    "        ims.append(mpimg.imread(im_fname))\n",
    "        latents.append(np.load(oj(DIRS_GEN, folder, f'{IM_NUM:05}.npy')))\n",
    "        print(np.mean(np.abs(np.corrcoef(latents[-1]))))\n",
    "\n",
    "    \n",
    "    plt.subplot(R, C, C * r + 1)\n",
    "    util.imshow(im_orig)\n",
    "    if r == 0:\n",
    "        plt.title('orig', fontsize=9)\n",
    "\n",
    "    for i in range(len(regs)):\n",
    "        plt.subplot(R, C, C * r + 2 + i)\n",
    "        util.imshow(ims[i])\n",
    "        if r == 0:\n",
    "            plt.title(f'reg={regs[i]:.2e}', fontsize=9)\n",
    "    latents = np.array(latents)\n",
    "plt.tight_layout()"
   ]
  },
  {
   "cell_type": "markdown",
   "metadata": {},
   "source": [
    "**load celeba labels**"
   ]
  },
  {
   "cell_type": "code",
   "execution_count": 10,
   "metadata": {},
   "outputs": [],
   "source": [
    "sys.path.append('../models/stylegan2encoder')\n",
    "import pretrained_networks\n",
    "import projector"
   ]
  },
  {
   "cell_type": "code",
   "execution_count": null,
   "metadata": {},
   "outputs": [],
   "source": [
    "network_pkl = 'gdrive:networks/stylegan2-ffhq-config-f.pkl'\n",
    "_, _, Gs = pretrained_networks.load_networks(network_pkl)\n",
    "proj = projector.Projector()\n",
    "proj.set_network(Gs)"
   ]
  },
  {
   "cell_type": "code",
   "execution_count": 47,
   "metadata": {},
   "outputs": [],
   "source": [
    "DIR_ORIG = '../data/celeba-hq/ims/'\n",
    "DIRS_GEN = '../data_processed/celeba-hq/'\n",
    "regs = [0, 0.1, 1, 10000]\n",
    "IM_NUMS = np.arange(6, 10)"
   ]
  },
  {
   "cell_type": "code",
   "execution_count": null,
   "metadata": {},
   "outputs": [],
   "source": [
    "# want df where each row is an image, columns are {stat}_{reg_param}\n",
    "r = {\n",
    "\n",
    "}\n",
    "latent_index = 0\n",
    "im_orig = mpimg.imread(oj(DIR_ORIG, f'{IM_NUM:05}.jpg'))\n",
    "im_orig = np.expand_dims(np.transpose(im_orig, (2, 0, 1)), 0)\n",
    "vgg_loss = proj.get_vgg_loss(im_orig,\n",
    "                  latents=latents[latent_index: latent_index + 1])\n",
    "mean_abs_corr = np.mean(np.abs(np.corrcoef(latents[latent_index])))"
   ]
  },
  {
   "cell_type": "code",
   "execution_count": 48,
   "metadata": {},
   "outputs": [
    {
     "data": {
      "text/plain": [
       "(1, 3, 1024, 1024)"
      ]
     },
     "execution_count": 48,
     "metadata": {},
     "output_type": "execute_result"
    }
   ],
   "source": [
    "im_orig.shape"
   ]
  },
  {
   "cell_type": "code",
   "execution_count": 77,
   "metadata": {},
   "outputs": [],
   "source": [
    "celeba_labs_fname = '../data/celeba-hq/Anno/list_attr_celeba.txt'\n",
    "labs_full = pd.read_csv(celeba_labs_fname, delim_whitespace=True, skiprows=1)\n",
    "labs = pd.DataFrame()\n",
    "# print(labs.keys())\n",
    "# print(labs_full.keys())\n",
    "\n",
    "# large is more male\n",
    "labs['Gender'] = labs_full['Male']\n",
    "\n",
    "# larger is longer\n",
    "labs['Hair-length'] = -1 * labs_full['Bald'] # Bangs, Receding_Hairline\n",
    "\n",
    "# larger is more\n",
    "labs['Facial-hair'] = labs_full['Mustache'] # Goatee, Mustache, No_Beard, 5_o_Clock_Shadow\n",
    "\n",
    "# higher is more\n",
    "labs['Makeup'] = labs_full['Heavy_Makeup'] # Wearing_Lipstick\n",
    "\n",
    "# higher is darker\n",
    "labs['Skin-color'] = labs_full['Pale_Skin'] * -1\n",
    "\n",
    "# older is more positive\n",
    "labs['Age'] = labs_full['Young'] * -1"
   ]
  }
 ],
 "metadata": {
  "kernelspec": {
   "display_name": "Environment (conda_python3)",
   "language": "python",
   "name": "conda_python3"
  },
  "language_info": {
   "codemirror_mode": {
    "name": "ipython",
    "version": 3
   },
   "file_extension": ".py",
   "mimetype": "text/x-python",
   "name": "python",
   "nbconvert_exporter": "python",
   "pygments_lexer": "ipython3",
   "version": "3.6.10"
  }
 },
 "nbformat": 4,
 "nbformat_minor": 4
}
