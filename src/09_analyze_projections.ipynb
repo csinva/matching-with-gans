{
 "cells": [
  {
   "cell_type": "code",
   "execution_count": 1,
   "metadata": {},
   "outputs": [],
   "source": [
    "%load_ext autoreload\n",
    "%autoreload 2\n",
    "import sys\n",
    "import numpy as np\n",
    "import PIL.Image\n",
    "import matplotlib.pyplot as plt\n",
    "from os.path import join as oj\n",
    "import pandas as pd\n",
    "import pickle as pkl\n",
    "import sklearn.model_selection\n",
    "import models\n",
    "import util\n",
    "import os\n",
    "import config\n",
    "import viz\n",
    "import scipy.stats\n",
    "from tqdm import tqdm\n",
    "import figs\n",
    "import matplotlib.image as mpimg\n",
    "import seaborn as sns"
   ]
  },
  {
   "cell_type": "markdown",
   "metadata": {},
   "source": [
    "# Look at stylegan-generated images"
   ]
  },
  {
   "cell_type": "code",
   "execution_count": 2,
   "metadata": {},
   "outputs": [],
   "source": [
    "DIR_ORIG = '../data/annotation-dataset-stylegan2/images'\n",
    "DIRS_STYLEGAN = '../data_processed/stylegan2'"
   ]
  },
  {
   "cell_type": "code",
   "execution_count": 3,
   "metadata": {},
   "outputs": [],
   "source": [
    "regs = [0, 0.1, 1, 10000]\n",
    "IM_NUMS = [0, 1, 10]"
   ]
  },
  {
   "cell_type": "code",
   "execution_count": null,
   "metadata": {},
   "outputs": [],
   "source": [
    "plt.figure(dpi=300)\n",
    "R, C = len(IM_NUMS), 1 + len(regs)\n",
    "for r, IM_NUM in enumerate(IM_NUMS):\n",
    "    ims = []\n",
    "    latents = []\n",
    "    im_orig = mpimg.imread(oj(DIR_ORIG, f'{IM_NUM}.jpg'))\n",
    "    for reg in regs:\n",
    "        folder = f'generated_images_{reg}'\n",
    "        im_fname = oj(DIRS_STYLEGAN, folder, f'{IM_NUM}.png')\n",
    "        ims.append(mpimg.imread(im_fname))\n",
    "        latents.append(np.load(oj(DIRS_STYLEGAN, folder, f'{IM_NUM}.npy')))\n",
    "        print(np.mean(np.abs(np.corrcoef(latents[-1]))))\n",
    "\n",
    "    \n",
    "    plt.subplot(R, C, C * r + 1)\n",
    "    util.imshow(im_orig)\n",
    "\n",
    "    for i in range(len(regs)):\n",
    "        plt.subplot(R, C, C * r + 2 + i)\n",
    "        util.imshow(ims[i])"
   ]
  },
  {
   "cell_type": "markdown",
   "metadata": {},
   "source": [
    "# Look at CELEB-A"
   ]
  },
  {
   "cell_type": "code",
   "execution_count": 5,
   "metadata": {},
   "outputs": [],
   "source": [
    "DIR_ORIG_CELEBA = '../data/CelebA/Img/img_align_celeba'\n",
    "DIR_SQUARE_CELEBA = '../data/CelebA/Img/img_square_celeba'"
   ]
  },
  {
   "cell_type": "markdown",
   "metadata": {},
   "source": [
    "**need to first preprocess celeba to be square before running the pipeline**"
   ]
  },
  {
   "cell_type": "code",
   "execution_count": null,
   "metadata": {},
   "outputs": [],
   "source": [
    "for fname in tqdm(sorted(os.listdir(DIR_ORIG_CELEBA))):\n",
    "    if '.jpg' in fname:\n",
    "        im = mpimg.imread(oj(DIR_ORIG_CELEBA, fname))\n",
    "        if not im.shape[0] == im.shape[1]:\n",
    "            im = im[20:-20]\n",
    "        plt.imsave(oj(DIR_SQUARE_CELEBA, fname), im)"
   ]
  },
  {
   "cell_type": "markdown",
   "metadata": {},
   "source": [
    "# look at celeba-hq"
   ]
  },
  {
   "cell_type": "code",
   "execution_count": 46,
   "metadata": {},
   "outputs": [],
   "source": [
    "DIR_ORIG = '../data/celeba-hq/ims/'\n",
    "DIRS_GEN = '../data_processed/celeba-hq/'\n",
    "regs = [0, 0.1, 1, 10000]\n",
    "IM_NUMS = np.arange(6, 10)"
   ]
  },
  {
   "cell_type": "code",
   "execution_count": null,
   "metadata": {},
   "outputs": [],
   "source": [
    "R, C = len(IM_NUMS), 1 + len(regs)\n",
    "plt.figure(dpi=120, figsize=(C*2.5, R*2.5))\n",
    "for r, IM_NUM in enumerate(IM_NUMS):\n",
    "    ims = []\n",
    "    latents = []\n",
    "    im_orig = mpimg.imread(oj(DIR_ORIG, f'{IM_NUM:05}.jpg'))\n",
    "    for reg in regs:\n",
    "        folder = f'generated_images_{reg}'\n",
    "        im_fname = oj(DIRS_GEN, folder, f'{IM_NUM:05}.png')\n",
    "        ims.append(mpimg.imread(im_fname))\n",
    "        latents.append(np.load(oj(DIRS_GEN, folder, f'{IM_NUM:05}.npy')))\n",
    "        # print(np.mean(np.abs(np.corrcoef(latents[-1]))))\n",
    "\n",
    "    \n",
    "    plt.subplot(R, C, C * r + 1)\n",
    "    util.imshow(im_orig)\n",
    "    if r == 0:\n",
    "        plt.title('orig', fontsize=9)\n",
    "\n",
    "    for i in range(len(regs)):\n",
    "        plt.subplot(R, C, C * r + 2 + i)\n",
    "        util.imshow(ims[i])\n",
    "        if r == 0:\n",
    "            plt.title(f'reg={regs[i]:.2e}', fontsize=9)\n",
    "    latents = np.array(latents)\n",
    "plt.tight_layout()"
   ]
  },
  {
   "cell_type": "markdown",
   "metadata": {},
   "source": [
    "## quantitative eval"
   ]
  },
  {
   "cell_type": "code",
   "execution_count": null,
   "metadata": {},
   "outputs": [],
   "source": [
    "# !python 09_process_latents.py"
   ]
  },
  {
   "cell_type": "code",
   "execution_count": 24,
   "metadata": {},
   "outputs": [],
   "source": [
    "df = pd.read_pickle('processed/09_df_50.pkl')"
   ]
  },
  {
   "cell_type": "code",
   "execution_count": 31,
   "metadata": {},
   "outputs": [
    {
     "data": {
      "image/png": "[encoded data removed]",
      "text/plain": [
       "<Figure size 483.6x360 with 1 Axes>"
      ]
     },
     "metadata": {
      "needs_background": "light"
     },
     "output_type": "display_data"
    }
   ],
   "source": [
    "# plt.plot(df['perceptual_loss'], df['mean_abs_corr'], '.')\n",
    "# d = df[df['im_num'] == 2]\n",
    "d = df\n",
    "sns.lmplot('perceptual_loss', 'mean_abs_corr', d, hue='reg_param')\n",
    "plt.show()"
   ]
  },
  {
   "cell_type": "code",
   "execution_count": 45,
   "metadata": {},
   "outputs": [
    {
     "data": {
      "image/png": "[encoded data removed]",
      "text/plain": [
       "<Figure size 432x288 with 1 Axes>"
      ]
     },
     "metadata": {
      "needs_background": "light"
     },
     "output_type": "display_data"
    }
   ],
   "source": [
    "means = df.groupby('reg_param').mean().reset_index()\n",
    "plt.plot(means['perceptual_loss'], means['mean_abs_corr'], 'o-')\n",
    "plt.xlabel('Perceptual loss')\n",
    "plt.ylabel('Mean absolute correlation\\nbetween latent space vectors')\n",
    "plt.show()"
   ]
  },
  {
   "cell_type": "code",
   "execution_count": 26,
   "metadata": {},
   "outputs": [],
   "source": [
    "attr_map = {\n",
    "        'A': 'age',\n",
    "        'B': 'facial-hair',\n",
    "        'C': 'skin-color',\n",
    "        'G': 'gender',\n",
    "        'H': 'hair-length',\n",
    "        'M': 'makeup',\n",
    "    }\n",
    "ks = sorted(attr_map.keys())"
   ]
  },
  {
   "cell_type": "code",
   "execution_count": null,
   "metadata": {},
   "outputs": [],
   "source": [
    "df"
   ]
  },
  {
   "cell_type": "code",
   "execution_count": null,
   "metadata": {},
   "outputs": [],
   "source": [
    "R, C = 2, 3\n",
    "for i, k in enumerate(ks):\n",
    "    predk = f'pred_{k}'\n",
    "    labk = f'lab_{k}'\n",
    "    sns.lmplot(predk, labk, df, hue='reg_param')\n",
    "    plt.show()"
   ]
  },
  {
   "cell_type": "code",
   "execution_count": 86,
   "metadata": {},
   "outputs": [
    {
     "name": "stderr",
     "output_type": "stream",
     "text": [
      "/home/ubuntu/anaconda3/envs/python3/lib/python3.6/site-packages/numpy/lib/function_base.py:2534: RuntimeWarning: invalid value encountered in true_divide\n",
      "  c /= stddev[:, None]\n",
      "/home/ubuntu/anaconda3/envs/python3/lib/python3.6/site-packages/numpy/lib/function_base.py:2535: RuntimeWarning: invalid value encountered in true_divide\n",
      "  c /= stddev[None, :]\n"
     ]
    }
   ],
   "source": [
    "reg_params = df.reg_param.unique()\n",
    "accs = np.zeros((len(reg_params), len(ks)))\n",
    "corrs = np.zeros((len(reg_params), len(ks)))\n",
    "for i, k in enumerate(ks):\n",
    "    predk = f'pred_{k}'\n",
    "    labk = f'lab_{k}'\n",
    "    for j, reg_param in enumerate(reg_params):\n",
    "#     sns.lmplot(predk, labk, df, hue='reg_param')\n",
    "        d = df[df.reg_param == reg_param]\n",
    "        accs[j, i] = np.mean((d[predk] > 0) == (d[labk] > 0))\n",
    "        corrs[j, i] = np.corrcoef(d[predk], d[labk])[0, 1]\n",
    "#     plt.show()"
   ]
  },
  {
   "cell_type": "code",
   "execution_count": null,
   "metadata": {},
   "outputs": [],
   "source": [
    "def plot_bars(vals, ylab='Accuracy'):\n",
    "    fig, ax = plt.subplots(dpi=300)\n",
    "    ind = np.arange(len(ks)) # the x locations for the groups\n",
    "    ps = []\n",
    "    for i in range(len(reg_params)):\n",
    "        width = 0.2\n",
    "        val = vals[i, :].flatten()\n",
    "        ps.append(ax.bar(ind + width * i, val, width))\n",
    "    plt.xticks(ind + width * 1.5, [attr_map[a] for a in ks], fontsize=10)\n",
    "    plt.ylabel(ylab)\n",
    "    ax.legend(ps, [f'{reg:.0e}' for reg in reg_params])\n",
    "    plt.show()\n",
    "plot_bars(corrs, 'Correlation')\n",
    "plot_bars(accs, 'Accuracy')"
   ]
  }
 ],
 "metadata": {
  "kernelspec": {
   "display_name": "Environment (conda_python3)",
   "language": "python",
   "name": "conda_python3"
  },
  "language_info": {
   "codemirror_mode": {
    "name": "ipython",
    "version": 3
   },
   "file_extension": ".py",
   "mimetype": "text/x-python",
   "name": "python",
   "nbconvert_exporter": "python",
   "pygments_lexer": "ipython3",
   "version": "3.6.10"
  }
 },
 "nbformat": 4,
 "nbformat_minor": 4
}
