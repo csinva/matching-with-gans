{
 "cells": [
  {
   "cell_type": "code",
   "execution_count": 23,
   "metadata": {},
   "outputs": [
    {
     "name": "stdout",
     "output_type": "stream",
     "text": [
      "The autoreload extension is already loaded. To reload it, use:\n",
      "  %reload_ext autoreload\n"
     ]
    }
   ],
   "source": [
    "%load_ext autoreload\n",
    "%autoreload 2\n",
    "import sys\n",
    "sys.path.append('../models/stylegan2')\n",
    "import numpy as np\n",
    "import PIL.Image\n",
    "import matplotlib.pyplot as plt\n",
    "from os.path import join as oj\n",
    "import pandas as pd\n",
    "import pickle as pkl\n",
    "import sklearn.model_selection\n",
    "import models\n",
    "import util\n",
    "import os\n",
    "import config\n",
    "import viz\n",
    "import scipy.stats\n",
    "from tqdm import tqdm\n",
    "import figs\n",
    "import matplotlib.image as mpimg"
   ]
  },
  {
   "cell_type": "markdown",
   "metadata": {},
   "source": [
    "# Look at stylegan-generated images"
   ]
  },
  {
   "cell_type": "code",
   "execution_count": 2,
   "metadata": {},
   "outputs": [],
   "source": [
    "DIR_ORIG = '../data/annotation-dataset-stylegan2/images'\n",
    "DIRS_STYLEGAN = '../data_processed/stylegan2'\n"
   ]
  },
  {
   "cell_type": "code",
   "execution_count": 3,
   "metadata": {},
   "outputs": [],
   "source": [
    "regs = [0, 0.1, 1, 10000]\n",
    "IM_NUMS = [0, 1, 10]"
   ]
  },
  {
   "cell_type": "code",
   "execution_count": null,
   "metadata": {},
   "outputs": [],
   "source": [
    "plt.figure(dpi=300)\n",
    "R, C = len(IM_NUMS), 1 + len(regs)\n",
    "for r, IM_NUM in enumerate(IM_NUMS):\n",
    "    ims = []\n",
    "    latents = []\n",
    "    im_orig = mpimg.imread(oj(DIR_ORIG, f'{IM_NUM}.jpg'))\n",
    "    for reg in regs:\n",
    "        folder = f'generated_images_{reg}'\n",
    "        im_fname = oj(DIRS_STYLEGAN, folder, f'{IM_NUM}.png')\n",
    "        ims.append(mpimg.imread(im_fname))\n",
    "        latents.append(np.load(oj(DIRS_STYLEGAN, folder, f'{IM_NUM}.npy')))\n",
    "        print(np.mean(np.abs(np.corrcoef(latents[-1]))))\n",
    "\n",
    "    \n",
    "    plt.subplot(R, C, C * r + 1)\n",
    "    util.imshow(im_orig)\n",
    "\n",
    "    for i in range(len(regs)):\n",
    "        plt.subplot(R, C, C * r + 2 + i)\n",
    "        util.imshow(ims[i])"
   ]
  },
  {
   "cell_type": "markdown",
   "metadata": {},
   "source": [
    "# Look at CELEB-A"
   ]
  },
  {
   "cell_type": "code",
   "execution_count": 38,
   "metadata": {},
   "outputs": [],
   "source": [
    "DIR_ORIG_CELEBA = '../data/CelebA/Img/img_align_celeba'\n",
    "DIR_SQUARE_CELEBA = '../data/CelebA/Img/img_square_celeba'"
   ]
  },
  {
   "cell_type": "markdown",
   "metadata": {},
   "source": [
    "**need to first preprocess celeba to be square before running the pipeline**"
   ]
  },
  {
   "cell_type": "code",
   "execution_count": null,
   "metadata": {},
   "outputs": [
    {
     "name": "stderr",
     "output_type": "stream",
     "text": [
      "\n",
      "\n",
      " 54%|█████▍    | 109698/202599 [05:15<04:16, 362.86it/s]\u001b[A\u001b[A"
     ]
    }
   ],
   "source": [
    "for fname in tqdm(sorted(os.listdir(DIR_ORIG_CELEBA))):\n",
    "    if '.jpg' in fname:\n",
    "        im = mpimg.imread(oj(DIR_ORIG_CELEBA, fname))\n",
    "        if not im.shape[0] == im.shape[1]:\n",
    "            im = im[20:-20]\n",
    "        plt.imsave(oj(DIR_SQUARE_CELEBA, fname), im)"
   ]
  },
  {
   "cell_type": "code",
   "execution_count": null,
   "metadata": {},
   "outputs": [],
   "source": []
  }
 ],
 "metadata": {
  "kernelspec": {
   "display_name": "Environment (conda_python3)",
   "language": "python",
   "name": "conda_python3"
  },
  "language_info": {
   "codemirror_mode": {
    "name": "ipython",
    "version": 3
   },
   "file_extension": ".py",
   "mimetype": "text/x-python",
   "name": "python",
   "nbconvert_exporter": "python",
   "pygments_lexer": "ipython3",
   "version": "3.6.10"
  }
 },
 "nbformat": 4,
 "nbformat_minor": 4
}
