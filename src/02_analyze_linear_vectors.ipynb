{
 "cells": [
  {
   "cell_type": "code",
   "execution_count": 47,
   "metadata": {},
   "outputs": [
    {
     "name": "stdout",
     "output_type": "stream",
     "text": [
      "The autoreload extension is already loaded. To reload it, use:\n",
      "  %reload_ext autoreload\n"
     ]
    }
   ],
   "source": [
    "%load_ext autoreload\n",
    "%autoreload 2\n",
    "import numpy as np\n",
    "import matplotlib.pyplot as plt\n",
    "import os\n",
    "import glob\n",
    "import json\n",
    "import datetime\n",
    "import time\n",
    "import jsonlines\n",
    "from PIL import Image\n",
    "from scipy.optimize import curve_fit\n",
    "import scipy as sy\n",
    "import pickle as pkl\n",
    "from os.path import join as oj\n",
    "\n",
    "PROCESSED_DIR = 'processed'\n",
    "DIRECTIONS_DIR = '../data/annotation-dataset-stylegan2/linear_models/new' # path to many datasets, includes on directory before the below dirs"
   ]
  },
  {
   "cell_type": "markdown",
   "metadata": {},
   "source": [
    "**load annotations in different directions**"
   ]
  },
  {
   "cell_type": "code",
   "execution_count": 48,
   "metadata": {},
   "outputs": [],
   "source": [
    "annotations_dict = pkl.load(open(oj(PROCESSED_DIR, '01_annotations_dict.pkl'), 'rb'))\n",
    "annotations_dict_labels = pkl.load(open(oj(PROCESSED_DIR, '01_annotations_labels_dict.pkl'), 'rb'))\n",
    "\n",
    "# rename keys\n",
    "annotations_dict = {k.replace('calibration-random-v2-', '').replace('-000', ''): annotations_dict[k]\n",
    "                    for k in annotations_dict}"
   ]
  },
  {
   "cell_type": "markdown",
   "metadata": {},
   "source": [
    "**load directions for linear models**"
   ]
  },
  {
   "cell_type": "code",
   "execution_count": 51,
   "metadata": {},
   "outputs": [
    {
     "name": "stdout",
     "output_type": "stream",
     "text": [
      "age <class 'sklearn.linear_model._ridge.Ridge'>\n",
      "facial-hair <class 'sklearn.svm._classes.LinearSVC'>\n",
      "skin-color <class 'sklearn.linear_model._ridge.Ridge'>\n",
      "gender <class 'sklearn.svm._classes.LinearSVC'>\n",
      "hair-length <class 'sklearn.linear_model._ridge.Ridge'>\n",
      "makeup <class 'sklearn.svm._classes.LinearSVC'>\n"
     ]
    }
   ],
   "source": [
    "# no key for ethnicity (also missing smiling/earrings?)\n",
    "renaming = {\n",
    "    'age': 'A',\n",
    "    'facial-hair': 'B',\n",
    "    'skin-color': 'C',\n",
    "    'gender': 'G',\n",
    "    'hair-length': 'H',\n",
    "    'makeup': 'M',\n",
    "}\n",
    "for k in renaming:\n",
    "    linear_model = pkl.load(open(oj(DIRECTIONS_DIR, f'{renaming[k]}_W.pkl'), 'rb'))\n",
    "    directions[k] = linear_model.coef_.flatten() #.reshape(-1, 1)\n",
    "    print(k, type(linear_model))"
   ]
  },
  {
   "cell_type": "markdown",
   "metadata": {},
   "source": [
    "# analyze metrics along these axes"
   ]
  },
  {
   "cell_type": "code",
   "execution_count": 52,
   "metadata": {},
   "outputs": [
    {
     "data": {
      "text/plain": [
       "0.058273845411123446"
      ]
     },
     "execution_count": 52,
     "metadata": {},
     "output_type": "execute_result"
    }
   ],
   "source": [
    "np.dot(directions['age'], directions['skin-color'])"
   ]
  },
  {
   "cell_type": "code",
   "execution_count": null,
   "metadata": {},
   "outputs": [],
   "source": []
  }
 ],
 "metadata": {
  "kernelspec": {
   "display_name": "Environment (conda_tensorflow_p36)",
   "language": "python",
   "name": "conda_tensorflow_p36"
  },
  "language_info": {
   "codemirror_mode": {
    "name": "ipython",
    "version": 3
   },
   "file_extension": ".py",
   "mimetype": "text/x-python",
   "name": "python",
   "nbconvert_exporter": "python",
   "pygments_lexer": "ipython3",
   "version": "3.6.10"
  }
 },
 "nbformat": 4,
 "nbformat_minor": 4
}
