{
 "cells": [
  {
   "cell_type": "markdown",
   "metadata": {},
   "source": [
    "**Note: this notebook creates the images used for the annotation experiment. The images used in the original annotation experiment are downloadable from [here](https://drive.google.com/drive/folders/1YO_GZ48o30jTnME-z7d8LlcZoJejcNsk)**"
   ]
  },
  {
   "cell_type": "code",
   "execution_count": 7,
   "metadata": {},
   "outputs": [
    {
     "name": "stdout",
     "output_type": "stream",
     "text": [
      "The autoreload extension is already loaded. To reload it, use:\n",
      "  %reload_ext autoreload\n"
     ]
    }
   ],
   "source": [
    "%load_ext autoreload\n",
    "%autoreload 2\n",
    "import os\n",
    "from os.path import join as oj\n",
    "\n",
    "import matplotlib.image as mpimg\n",
    "import matplotlib.pyplot as plt\n",
    "import numpy as np\n",
    "import pandas as pd\n",
    "from tqdm import tqdm\n",
    "import sys\n",
    "import pickle as pkl\n",
    "sys.path.append('..')\n",
    "\n",
    "import data\n",
    "import style\n",
    "import config\n",
    "from config import *\n",
    "import util\n",
    "import glob\n",
    "import json, jsonlines\n",
    "df = data.load_all_labs()\n",
    "df = df.set_index('fname_id')\n",
    "\n",
    "# get fnames\n",
    "fname_nps = [f for f in sorted(os.listdir(DIR_GEN)) if 'npy' in f] # these start at 00001\n",
    "fname_ids = np.array([f[:-4] for f in fname_nps])\n",
    "idxs_calculated = np.array([int(x) - 1 for x in fname_ids]) # this starts at 0\n",
    "\n",
    "# trim df to only have the relevant ids\n",
    "df = df.loc[fname_ids]"
   ]
  },
  {
   "cell_type": "markdown",
   "metadata": {},
   "source": [
    "# select celebrities"
   ]
  },
  {
   "cell_type": "code",
   "execution_count": 8,
   "metadata": {},
   "outputs": [
    {
     "name": "stdout",
     "output_type": "stream",
     "text": [
      "0 Black | 93 ids\t 707 photos\n",
      "0 White | 1511 ids\t 12493 photos\n",
      "1 Black | 172 ids\t 1011 photos\n",
      "1 White | 885 ids\t 5978 photos\n"
     ]
    }
   ],
   "source": [
    "# only consider ids with more than 2 ims\n",
    "d = df[df['count_with_this_id'] > 2]\n",
    "\n",
    "# sort by how many ids each image has\n",
    "d = d.sort_values('count_with_this_id', ascending=False)\n",
    "\n",
    "# get ids for subgroups\n",
    "subgroups = {}\n",
    "for gender in [0, 1]:\n",
    "    for race in ['Black', 'White']:\n",
    "        dd = d[d['gender'] == gender]\n",
    "        dd = dd[dd['race_pred'] == race]\n",
    "        print(gender, race, '|', dd.id.unique().size, 'ids\\t', dd.shape[0], 'photos')        \n",
    "        subgroups[(gender, race)] = dd.id.unique()"
   ]
  },
  {
   "cell_type": "markdown",
   "metadata": {},
   "source": [
    "# save all pairs"
   ]
  },
  {
   "cell_type": "code",
   "execution_count": null,
   "metadata": {},
   "outputs": [],
   "source": [
    "# note that this code picks slightly different images than the paper results\n",
    "# this discrepancy is because at the time of running this code, only half the images in celeba-hq had been projected\n",
    "# the procedure was exactly that given here\n",
    "# the original images picked are available on the gdrive folder references in the github\n",
    "\n",
    "def pair_plot(im0, im1):\n",
    "    R, C = 1, 2\n",
    "    plt.subplot(R, C, 1)\n",
    "    plt.title('Real photo')\n",
    "    util.imshow(im0)\n",
    "    plt.subplot(R, C, 2)\n",
    "    plt.title('Test photo')\n",
    "    util.imshow(im1)\n",
    "    plt.tight_layout()\n",
    "    \n",
    "def slight_random_crop(im):\n",
    "    x = np.random.randint(20, 35)\n",
    "    return im[x: -x, x: -x]\n",
    "\n",
    "np.random.seed(13)\n",
    "N_IMS = 30\n",
    "EXPERIMENT_DIR = oj(DIR_PROCESSED, 'projections_annotation_double', 'ims')\n",
    "os.makedirs(EXPERIMENT_DIR, exist_ok=True)\n",
    "for gender, race in tqdm(subgroups.keys()):\n",
    "    # print(gender, race)\n",
    "    ids = subgroups[(gender, race)]\n",
    "    for i in tqdm(ids[:N_IMS]):\n",
    "        ims = d[d.id == i].iloc[:2]\n",
    "        im0 = mpimg.imread(oj(DIR_IMS, ims.fname_final.values[0]))\n",
    "        im1 = mpimg.imread(oj(DIR_IMS, ims.fname_final.values[1]))\n",
    "        im1_rec = mpimg.imread(oj(DIR_GEN, ims.fname_final.values[1][:-4] + '.png'))\n",
    "        pair_plot(im0, im1)\n",
    "        plt.savefig(oj(EXPERIMENT_DIR, f'{gender}_{race}_{i}_real.png'), dpi=300)\n",
    "        pair_plot(im0, im1_rec)\n",
    "        plt.savefig(oj(EXPERIMENT_DIR, f'{gender}_{race}_{i}_fake.png'), dpi=300)\n",
    "        pair_plot(im0, slight_random_crop(im0))\n",
    "        plt.savefig(oj(EXPERIMENT_DIR, f'{gender}_{race}_{i}_dup.png'), dpi=300)        "
   ]
  },
  {
   "cell_type": "code",
   "execution_count": null,
   "metadata": {},
   "outputs": [],
   "source": [
    "len(os.listdir(oj(DIR_PROCESSED, 'projections_annotation_double', 'ims')))"
   ]
  }
 ],
 "metadata": {
  "kernelspec": {
   "display_name": "Environment (conda_python3)",
   "language": "python",
   "name": "conda_python3"
  },
  "language_info": {
   "codemirror_mode": {
    "name": "ipython",
    "version": 3
   },
   "file_extension": ".py",
   "mimetype": "text/x-python",
   "name": "python",
   "nbconvert_exporter": "python",
   "pygments_lexer": "ipython3",
   "version": "3.6.10"
  }
 },
 "nbformat": 4,
 "nbformat_minor": 4
}
