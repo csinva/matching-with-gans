{
 "cells": [
  {
   "cell_type": "code",
   "execution_count": 12,
   "metadata": {},
   "outputs": [
    {
     "name": "stdout",
     "output_type": "stream",
     "text": [
      "The autoreload extension is already loaded. To reload it, use:\n",
      "  %reload_ext autoreload\n"
     ]
    }
   ],
   "source": [
    "%load_ext autoreload\n",
    "%autoreload 2\n",
    "import os\n",
    "from os.path import join as oj\n",
    "\n",
    "import matplotlib.image as mpimg\n",
    "import matplotlib.pyplot as plt\n",
    "import numpy as np\n",
    "import pandas as pd\n",
    "import seaborn as sns\n",
    "from tqdm import tqdm\n",
    "import sys\n",
    "import pickle as pkl\n",
    "import face_recognition\n",
    "sys.path.append('..')\n",
    "\n",
    "from process_latents import ks\n",
    "import data\n",
    "import style\n",
    "import config\n",
    "from config import *\n",
    "import util"
   ]
  },
  {
   "cell_type": "markdown",
   "metadata": {},
   "source": [
    "## process the latents"
   ]
  },
  {
   "cell_type": "code",
   "execution_count": null,
   "metadata": {},
   "outputs": [],
   "source": [
    "# !process_latents.py"
   ]
  },
  {
   "cell_type": "code",
   "execution_count": 4,
   "metadata": {},
   "outputs": [
    {
     "name": "stdout",
     "output_type": "stream",
     "text": [
      "generated_images_10000 first 300 calculated\n",
      "generated_images_10 first 62 calculated\n",
      "generated_images_1 first 1541 calculated\n",
      "generated_images_0.1 first 8667 calculated\n",
      "generated_images_0 first 321 calculated\n",
      "generated_images_0.01 first 354 calculated\n"
     ]
    }
   ],
   "source": [
    "# check if first generations are done\n",
    "for d in os.listdir(DIR_PROCESSED):\n",
    "    if 'generated_images_' in d:\n",
    "        num = 0\n",
    "        for num in range(30000):\n",
    "            s = f'{num + 1:05d}.npy'\n",
    "            if not os.path.exists(oj(DIR_PROCESSED, d, s)):\n",
    "                break\n",
    "        print(d, 'first', num, 'calculated')\n",
    "        \n",
    "    # save out first 300"
   ]
  },
  {
   "cell_type": "code",
   "execution_count": null,
   "metadata": {},
   "outputs": [],
   "source": [
    "# for the final selected dir, see if we are missing any projections\n",
    "exists = np.zeros(30000)\n",
    "for num in range(30000):\n",
    "    s = f'{num + 1:05d}.npy'\n",
    "    exists[num] = os.path.exists(oj(DIR_GEN, s))\n",
    "print(np.sum(exists))\n",
    "\n",
    "plt.plot(np.arange(30000)[exists == 0])\n",
    "plt.grid()\n",
    "print(sorted(os.listdir(DIR_GEN))[-1])"
   ]
  },
  {
   "cell_type": "markdown",
   "metadata": {},
   "source": [
    "# analyze results after processing the latents"
   ]
  },
  {
   "cell_type": "code",
   "execution_count": 17,
   "metadata": {},
   "outputs": [
    {
     "data": {
      "text/html": [
       "<div>\n",
       "<style scoped>\n",
       "    .dataframe tbody tr th:only-of-type {\n",
       "        vertical-align: middle;\n",
       "    }\n",
       "\n",
       "    .dataframe tbody tr th {\n",
       "        vertical-align: top;\n",
       "    }\n",
       "\n",
       "    .dataframe thead th {\n",
       "        text-align: right;\n",
       "    }\n",
       "</style>\n",
       "<table border=\"1\" class=\"dataframe\">\n",
       "  <thead>\n",
       "    <tr style=\"text-align: right;\">\n",
       "      <th></th>\n",
       "      <th>reg_param</th>\n",
       "      <th>im_num</th>\n",
       "      <th>perceptual_loss</th>\n",
       "      <th>mean_abs_corr</th>\n",
       "      <th>mean_mse_dist</th>\n",
       "      <th>pred_H</th>\n",
       "      <th>pred_A</th>\n",
       "      <th>pred_G</th>\n",
       "      <th>pred_C</th>\n",
       "      <th>pred_B</th>\n",
       "      <th>pred_M</th>\n",
       "      <th>pred_S</th>\n",
       "      <th>pred_E</th>\n",
       "      <th>pred_W</th>\n",
       "    </tr>\n",
       "  </thead>\n",
       "  <tbody>\n",
       "    <tr>\n",
       "      <th>0</th>\n",
       "      <td>10000</td>\n",
       "      <td>0</td>\n",
       "      <td>0.746571</td>\n",
       "      <td>1.0</td>\n",
       "      <td>1.363890e-09</td>\n",
       "      <td>0.416608</td>\n",
       "      <td>-0.324412</td>\n",
       "      <td>-2.777806</td>\n",
       "      <td>-0.349753</td>\n",
       "      <td>5.551168</td>\n",
       "      <td>1.625070</td>\n",
       "      <td>2.302401</td>\n",
       "      <td>-6.576551</td>\n",
       "      <td>0.231919</td>\n",
       "    </tr>\n",
       "    <tr>\n",
       "      <th>1</th>\n",
       "      <td>10000</td>\n",
       "      <td>1</td>\n",
       "      <td>0.790659</td>\n",
       "      <td>1.0</td>\n",
       "      <td>1.094799e-09</td>\n",
       "      <td>0.307900</td>\n",
       "      <td>-0.503152</td>\n",
       "      <td>-2.424377</td>\n",
       "      <td>-0.729286</td>\n",
       "      <td>9.954662</td>\n",
       "      <td>2.235315</td>\n",
       "      <td>-0.052102</td>\n",
       "      <td>-7.143328</td>\n",
       "      <td>-0.003069</td>\n",
       "    </tr>\n",
       "    <tr>\n",
       "      <th>2</th>\n",
       "      <td>10000</td>\n",
       "      <td>2</td>\n",
       "      <td>0.785664</td>\n",
       "      <td>1.0</td>\n",
       "      <td>1.312792e-09</td>\n",
       "      <td>0.106701</td>\n",
       "      <td>-0.252948</td>\n",
       "      <td>-0.910797</td>\n",
       "      <td>-0.447726</td>\n",
       "      <td>4.049523</td>\n",
       "      <td>-1.133978</td>\n",
       "      <td>2.600942</td>\n",
       "      <td>-7.088378</td>\n",
       "      <td>-0.905180</td>\n",
       "    </tr>\n",
       "    <tr>\n",
       "      <th>3</th>\n",
       "      <td>10000</td>\n",
       "      <td>3</td>\n",
       "      <td>0.724697</td>\n",
       "      <td>1.0</td>\n",
       "      <td>9.688613e-10</td>\n",
       "      <td>0.169111</td>\n",
       "      <td>0.105621</td>\n",
       "      <td>-1.674628</td>\n",
       "      <td>-0.162618</td>\n",
       "      <td>5.428327</td>\n",
       "      <td>-0.370509</td>\n",
       "      <td>3.067948</td>\n",
       "      <td>-4.228546</td>\n",
       "      <td>-0.181391</td>\n",
       "    </tr>\n",
       "    <tr>\n",
       "      <th>4</th>\n",
       "      <td>10000</td>\n",
       "      <td>4</td>\n",
       "      <td>0.725652</td>\n",
       "      <td>1.0</td>\n",
       "      <td>1.146150e-09</td>\n",
       "      <td>0.191494</td>\n",
       "      <td>-0.575225</td>\n",
       "      <td>-1.350129</td>\n",
       "      <td>-0.155680</td>\n",
       "      <td>8.397672</td>\n",
       "      <td>-0.880678</td>\n",
       "      <td>-0.830927</td>\n",
       "      <td>-7.271062</td>\n",
       "      <td>-0.855033</td>\n",
       "    </tr>\n",
       "    <tr>\n",
       "      <th>...</th>\n",
       "      <td>...</td>\n",
       "      <td>...</td>\n",
       "      <td>...</td>\n",
       "      <td>...</td>\n",
       "      <td>...</td>\n",
       "      <td>...</td>\n",
       "      <td>...</td>\n",
       "      <td>...</td>\n",
       "      <td>...</td>\n",
       "      <td>...</td>\n",
       "      <td>...</td>\n",
       "      <td>...</td>\n",
       "      <td>...</td>\n",
       "      <td>...</td>\n",
       "    </tr>\n",
       "    <tr>\n",
       "      <th>70</th>\n",
       "      <td>10000</td>\n",
       "      <td>70</td>\n",
       "      <td>0.887193</td>\n",
       "      <td>1.0</td>\n",
       "      <td>2.197853e-09</td>\n",
       "      <td>0.034442</td>\n",
       "      <td>-0.882334</td>\n",
       "      <td>-0.040484</td>\n",
       "      <td>-0.636884</td>\n",
       "      <td>6.730826</td>\n",
       "      <td>-1.445130</td>\n",
       "      <td>0.318642</td>\n",
       "      <td>-9.250085</td>\n",
       "      <td>-0.984216</td>\n",
       "    </tr>\n",
       "    <tr>\n",
       "      <th>71</th>\n",
       "      <td>10000</td>\n",
       "      <td>71</td>\n",
       "      <td>0.807915</td>\n",
       "      <td>1.0</td>\n",
       "      <td>9.075913e-10</td>\n",
       "      <td>0.367177</td>\n",
       "      <td>-0.189725</td>\n",
       "      <td>-2.432274</td>\n",
       "      <td>-0.498457</td>\n",
       "      <td>8.756819</td>\n",
       "      <td>1.410776</td>\n",
       "      <td>4.684879</td>\n",
       "      <td>-4.565702</td>\n",
       "      <td>-0.025558</td>\n",
       "    </tr>\n",
       "    <tr>\n",
       "      <th>72</th>\n",
       "      <td>10000</td>\n",
       "      <td>72</td>\n",
       "      <td>0.770908</td>\n",
       "      <td>1.0</td>\n",
       "      <td>1.133644e-09</td>\n",
       "      <td>0.263469</td>\n",
       "      <td>-0.296690</td>\n",
       "      <td>-1.918431</td>\n",
       "      <td>-0.508080</td>\n",
       "      <td>6.687163</td>\n",
       "      <td>-0.131541</td>\n",
       "      <td>2.426863</td>\n",
       "      <td>-5.466881</td>\n",
       "      <td>-0.610774</td>\n",
       "    </tr>\n",
       "    <tr>\n",
       "      <th>73</th>\n",
       "      <td>10000</td>\n",
       "      <td>73</td>\n",
       "      <td>0.851701</td>\n",
       "      <td>1.0</td>\n",
       "      <td>1.627237e-09</td>\n",
       "      <td>0.256951</td>\n",
       "      <td>-0.440173</td>\n",
       "      <td>-1.477999</td>\n",
       "      <td>-0.602153</td>\n",
       "      <td>7.762608</td>\n",
       "      <td>-0.332773</td>\n",
       "      <td>1.939559</td>\n",
       "      <td>-4.182149</td>\n",
       "      <td>-1.474342</td>\n",
       "    </tr>\n",
       "    <tr>\n",
       "      <th>74</th>\n",
       "      <td>10000</td>\n",
       "      <td>74</td>\n",
       "      <td>0.718058</td>\n",
       "      <td>1.0</td>\n",
       "      <td>1.086077e-09</td>\n",
       "      <td>0.347327</td>\n",
       "      <td>-0.081630</td>\n",
       "      <td>-3.094896</td>\n",
       "      <td>-0.027734</td>\n",
       "      <td>8.130781</td>\n",
       "      <td>1.522201</td>\n",
       "      <td>4.017490</td>\n",
       "      <td>-3.852280</td>\n",
       "      <td>1.010269</td>\n",
       "    </tr>\n",
       "  </tbody>\n",
       "</table>\n",
       "<p>75 rows × 14 columns</p>\n",
       "</div>"
      ],
      "text/plain": [
       "    reg_param  im_num  perceptual_loss  mean_abs_corr  mean_mse_dist  \\\n",
       "0       10000       0         0.746571            1.0   1.363890e-09   \n",
       "1       10000       1         0.790659            1.0   1.094799e-09   \n",
       "2       10000       2         0.785664            1.0   1.312792e-09   \n",
       "3       10000       3         0.724697            1.0   9.688613e-10   \n",
       "4       10000       4         0.725652            1.0   1.146150e-09   \n",
       "..        ...     ...              ...            ...            ...   \n",
       "70      10000      70         0.887193            1.0   2.197853e-09   \n",
       "71      10000      71         0.807915            1.0   9.075913e-10   \n",
       "72      10000      72         0.770908            1.0   1.133644e-09   \n",
       "73      10000      73         0.851701            1.0   1.627237e-09   \n",
       "74      10000      74         0.718058            1.0   1.086077e-09   \n",
       "\n",
       "      pred_H    pred_A    pred_G    pred_C    pred_B    pred_M    pred_S  \\\n",
       "0   0.416608 -0.324412 -2.777806 -0.349753  5.551168  1.625070  2.302401   \n",
       "1   0.307900 -0.503152 -2.424377 -0.729286  9.954662  2.235315 -0.052102   \n",
       "2   0.106701 -0.252948 -0.910797 -0.447726  4.049523 -1.133978  2.600942   \n",
       "3   0.169111  0.105621 -1.674628 -0.162618  5.428327 -0.370509  3.067948   \n",
       "4   0.191494 -0.575225 -1.350129 -0.155680  8.397672 -0.880678 -0.830927   \n",
       "..       ...       ...       ...       ...       ...       ...       ...   \n",
       "70  0.034442 -0.882334 -0.040484 -0.636884  6.730826 -1.445130  0.318642   \n",
       "71  0.367177 -0.189725 -2.432274 -0.498457  8.756819  1.410776  4.684879   \n",
       "72  0.263469 -0.296690 -1.918431 -0.508080  6.687163 -0.131541  2.426863   \n",
       "73  0.256951 -0.440173 -1.477999 -0.602153  7.762608 -0.332773  1.939559   \n",
       "74  0.347327 -0.081630 -3.094896 -0.027734  8.130781  1.522201  4.017490   \n",
       "\n",
       "      pred_E    pred_W  \n",
       "0  -6.576551  0.231919  \n",
       "1  -7.143328 -0.003069  \n",
       "2  -7.088378 -0.905180  \n",
       "3  -4.228546 -0.181391  \n",
       "4  -7.271062 -0.855033  \n",
       "..       ...       ...  \n",
       "70 -9.250085 -0.984216  \n",
       "71 -4.565702 -0.025558  \n",
       "72 -5.466881 -0.610774  \n",
       "73 -4.182149 -1.474342  \n",
       "74 -3.852280  1.010269  \n",
       "\n",
       "[75 rows x 14 columns]"
      ]
     },
     "execution_count": 17,
     "metadata": {},
     "output_type": "execute_result"
    }
   ],
   "source": []
  },
  {
   "cell_type": "code",
   "execution_count": 22,
   "metadata": {},
   "outputs": [
    {
     "name": "stdout",
     "output_type": "stream",
     "text": [
      "loading cached labels\n"
     ]
    }
   ],
   "source": [
    "# latents_processed_file = oj(DIR_PROCESSED, 'processed_latents_300.pkl')\n",
    "# df = pd.read_pickle(latents_processed_file)\n",
    "df = pd.DataFrame([pkl.load(open(oj(DIR_PROCESSED, 'processed_latents', f), 'rb'))\n",
    " for f in sorted(os.listdir(oj(DIR_PROCESSED, 'processed_latents'))) if 'pkl' in f])\n",
    "reg_params = df.reg_param.unique()\n",
    "n = int(df.shape[0] / reg_params.size)\n",
    "\n",
    "# add in all the label keys\n",
    "df_labs = data.load_all_labs()[:n]\n",
    "for reg_param in reg_params:\n",
    "    for k in df_labs.keys():\n",
    "        df.loc[df.reg_param == reg_param, k] = df_labs[k]"
   ]
  },
  {
   "cell_type": "code",
   "execution_count": null,
   "metadata": {},
   "outputs": [],
   "source": [
    "df.head()"
   ]
  },
  {
   "cell_type": "markdown",
   "metadata": {},
   "source": [
    "### perceptual loss preservation"
   ]
  },
  {
   "cell_type": "code",
   "execution_count": 19,
   "metadata": {},
   "outputs": [
    {
     "ename": "IndexError",
     "evalue": "single positional indexer is out-of-bounds",
     "output_type": "error",
     "traceback": [
      "\u001b[0;31m---------------------------------------------------------------------------\u001b[0m",
      "\u001b[0;31mIndexError\u001b[0m                                Traceback (most recent call last)",
      "\u001b[0;32m<ipython-input-19-c9929b6e0c56>\u001b[0m in \u001b[0;36m<module>\u001b[0;34m\u001b[0m\n\u001b[1;32m     17\u001b[0m \u001b[0;34m\u001b[0m\u001b[0m\n\u001b[1;32m     18\u001b[0m \u001b[0;31m# annotate 1\u001b[0m\u001b[0;34m\u001b[0m\u001b[0;34m\u001b[0m\u001b[0;34m\u001b[0m\u001b[0m\n\u001b[0;32m---> 19\u001b[0;31m \u001b[0mr1\u001b[0m \u001b[0;34m=\u001b[0m \u001b[0mmeans\u001b[0m\u001b[0;34m.\u001b[0m\u001b[0miloc\u001b[0m\u001b[0;34m[\u001b[0m\u001b[0;36m2\u001b[0m\u001b[0;34m]\u001b[0m\u001b[0;34m\u001b[0m\u001b[0;34m\u001b[0m\u001b[0m\n\u001b[0m\u001b[1;32m     20\u001b[0m \u001b[0;34m(\u001b[0m\u001b[0mx1\u001b[0m\u001b[0;34m,\u001b[0m \u001b[0my1\u001b[0m\u001b[0;34m)\u001b[0m \u001b[0;34m=\u001b[0m \u001b[0mr1\u001b[0m\u001b[0;34m[\u001b[0m\u001b[0;34m'perceptual_loss'\u001b[0m\u001b[0;34m]\u001b[0m \u001b[0;34m+\u001b[0m \u001b[0;36m1.5e-3\u001b[0m\u001b[0;34m,\u001b[0m \u001b[0mr1\u001b[0m\u001b[0;34m[\u001b[0m\u001b[0;34m'mean_abs_corr'\u001b[0m\u001b[0;34m]\u001b[0m \u001b[0;34m-\u001b[0m \u001b[0;36m3e-2\u001b[0m\u001b[0;34m\u001b[0m\u001b[0;34m\u001b[0m\u001b[0m\n\u001b[1;32m     21\u001b[0m \u001b[0mplt\u001b[0m\u001b[0;34m.\u001b[0m\u001b[0mplot\u001b[0m\u001b[0;34m(\u001b[0m\u001b[0mr1\u001b[0m\u001b[0;34m[\u001b[0m\u001b[0;34m'perceptual_loss'\u001b[0m\u001b[0;34m]\u001b[0m\u001b[0;34m,\u001b[0m \u001b[0mr1\u001b[0m\u001b[0;34m[\u001b[0m\u001b[0;34m'mean_abs_corr'\u001b[0m\u001b[0;34m]\u001b[0m\u001b[0;34m,\u001b[0m \u001b[0mmarker\u001b[0m\u001b[0;34m=\u001b[0m\u001b[0;34m'*'\u001b[0m\u001b[0;34m,\u001b[0m \u001b[0mms\u001b[0m\u001b[0;34m=\u001b[0m\u001b[0;36m13\u001b[0m\u001b[0;34m)\u001b[0m\u001b[0;34m\u001b[0m\u001b[0;34m\u001b[0m\u001b[0m\n",
      "\u001b[0;32m~/anaconda3/envs/python3/lib/python3.6/site-packages/pandas/core/indexing.py\u001b[0m in \u001b[0;36m__getitem__\u001b[0;34m(self, key)\u001b[0m\n\u001b[1;32m   1766\u001b[0m \u001b[0;34m\u001b[0m\u001b[0m\n\u001b[1;32m   1767\u001b[0m             \u001b[0mmaybe_callable\u001b[0m \u001b[0;34m=\u001b[0m \u001b[0mcom\u001b[0m\u001b[0;34m.\u001b[0m\u001b[0mapply_if_callable\u001b[0m\u001b[0;34m(\u001b[0m\u001b[0mkey\u001b[0m\u001b[0;34m,\u001b[0m \u001b[0mself\u001b[0m\u001b[0;34m.\u001b[0m\u001b[0mobj\u001b[0m\u001b[0;34m)\u001b[0m\u001b[0;34m\u001b[0m\u001b[0;34m\u001b[0m\u001b[0m\n\u001b[0;32m-> 1768\u001b[0;31m             \u001b[0;32mreturn\u001b[0m \u001b[0mself\u001b[0m\u001b[0;34m.\u001b[0m\u001b[0m_getitem_axis\u001b[0m\u001b[0;34m(\u001b[0m\u001b[0mmaybe_callable\u001b[0m\u001b[0;34m,\u001b[0m \u001b[0maxis\u001b[0m\u001b[0;34m=\u001b[0m\u001b[0maxis\u001b[0m\u001b[0;34m)\u001b[0m\u001b[0;34m\u001b[0m\u001b[0;34m\u001b[0m\u001b[0m\n\u001b[0m\u001b[1;32m   1769\u001b[0m \u001b[0;34m\u001b[0m\u001b[0m\n\u001b[1;32m   1770\u001b[0m     \u001b[0;32mdef\u001b[0m \u001b[0m_is_scalar_access\u001b[0m\u001b[0;34m(\u001b[0m\u001b[0mself\u001b[0m\u001b[0;34m,\u001b[0m \u001b[0mkey\u001b[0m\u001b[0;34m:\u001b[0m \u001b[0mTuple\u001b[0m\u001b[0;34m)\u001b[0m\u001b[0;34m:\u001b[0m\u001b[0;34m\u001b[0m\u001b[0;34m\u001b[0m\u001b[0m\n",
      "\u001b[0;32m~/anaconda3/envs/python3/lib/python3.6/site-packages/pandas/core/indexing.py\u001b[0m in \u001b[0;36m_getitem_axis\u001b[0;34m(self, key, axis)\u001b[0m\n\u001b[1;32m   2136\u001b[0m \u001b[0;34m\u001b[0m\u001b[0m\n\u001b[1;32m   2137\u001b[0m             \u001b[0;31m# validate the location\u001b[0m\u001b[0;34m\u001b[0m\u001b[0;34m\u001b[0m\u001b[0;34m\u001b[0m\u001b[0m\n\u001b[0;32m-> 2138\u001b[0;31m             \u001b[0mself\u001b[0m\u001b[0;34m.\u001b[0m\u001b[0m_validate_integer\u001b[0m\u001b[0;34m(\u001b[0m\u001b[0mkey\u001b[0m\u001b[0;34m,\u001b[0m \u001b[0maxis\u001b[0m\u001b[0;34m)\u001b[0m\u001b[0;34m\u001b[0m\u001b[0;34m\u001b[0m\u001b[0m\n\u001b[0m\u001b[1;32m   2139\u001b[0m \u001b[0;34m\u001b[0m\u001b[0m\n\u001b[1;32m   2140\u001b[0m             \u001b[0;32mreturn\u001b[0m \u001b[0mself\u001b[0m\u001b[0;34m.\u001b[0m\u001b[0m_get_loc\u001b[0m\u001b[0;34m(\u001b[0m\u001b[0mkey\u001b[0m\u001b[0;34m,\u001b[0m \u001b[0maxis\u001b[0m\u001b[0;34m=\u001b[0m\u001b[0maxis\u001b[0m\u001b[0;34m)\u001b[0m\u001b[0;34m\u001b[0m\u001b[0;34m\u001b[0m\u001b[0m\n",
      "\u001b[0;32m~/anaconda3/envs/python3/lib/python3.6/site-packages/pandas/core/indexing.py\u001b[0m in \u001b[0;36m_validate_integer\u001b[0;34m(self, key, axis)\u001b[0m\n\u001b[1;32m   2061\u001b[0m         \u001b[0mlen_axis\u001b[0m \u001b[0;34m=\u001b[0m \u001b[0mlen\u001b[0m\u001b[0;34m(\u001b[0m\u001b[0mself\u001b[0m\u001b[0;34m.\u001b[0m\u001b[0mobj\u001b[0m\u001b[0;34m.\u001b[0m\u001b[0m_get_axis\u001b[0m\u001b[0;34m(\u001b[0m\u001b[0maxis\u001b[0m\u001b[0;34m)\u001b[0m\u001b[0;34m)\u001b[0m\u001b[0;34m\u001b[0m\u001b[0;34m\u001b[0m\u001b[0m\n\u001b[1;32m   2062\u001b[0m         \u001b[0;32mif\u001b[0m \u001b[0mkey\u001b[0m \u001b[0;34m>=\u001b[0m \u001b[0mlen_axis\u001b[0m \u001b[0;32mor\u001b[0m \u001b[0mkey\u001b[0m \u001b[0;34m<\u001b[0m \u001b[0;34m-\u001b[0m\u001b[0mlen_axis\u001b[0m\u001b[0;34m:\u001b[0m\u001b[0;34m\u001b[0m\u001b[0;34m\u001b[0m\u001b[0m\n\u001b[0;32m-> 2063\u001b[0;31m             \u001b[0;32mraise\u001b[0m \u001b[0mIndexError\u001b[0m\u001b[0;34m(\u001b[0m\u001b[0;34m\"single positional indexer is out-of-bounds\"\u001b[0m\u001b[0;34m)\u001b[0m\u001b[0;34m\u001b[0m\u001b[0;34m\u001b[0m\u001b[0m\n\u001b[0m\u001b[1;32m   2064\u001b[0m \u001b[0;34m\u001b[0m\u001b[0m\n\u001b[1;32m   2065\u001b[0m     \u001b[0;32mdef\u001b[0m \u001b[0m_getitem_tuple\u001b[0m\u001b[0;34m(\u001b[0m\u001b[0mself\u001b[0m\u001b[0;34m,\u001b[0m \u001b[0mtup\u001b[0m\u001b[0;34m:\u001b[0m \u001b[0mTuple\u001b[0m\u001b[0;34m)\u001b[0m\u001b[0;34m:\u001b[0m\u001b[0;34m\u001b[0m\u001b[0;34m\u001b[0m\u001b[0m\n",
      "\u001b[0;31mIndexError\u001b[0m: single positional indexer is out-of-bounds"
     ]
    },
    {
     "data": {
      "image/png": "[encoded data removed]",
      "text/plain": [
       "<Figure size 1800x1200 with 1 Axes>"
      ]
     },
     "metadata": {
      "needs_background": "light"
     },
     "output_type": "display_data"
    }
   ],
   "source": [
    "plt.figure(dpi=300)\n",
    "means = df.groupby('reg_param').mean().reset_index()\n",
    "ax = plt.gca()\n",
    "plt.plot(means['perceptual_loss'], means['mean_abs_corr'], 'o-')\n",
    "\n",
    "# annotate 0\n",
    "r0 = means.iloc[0]\n",
    "(x0, y0) = r0['perceptual_loss'] + 1e-3, r0['mean_abs_corr']\n",
    "plt.text(x0, y0, 'No regularization')\n",
    "'''\n",
    "ax.annotate('local max', xy=(3, 1),  xycoords='data',\n",
    "            xytext=(0.8, 0.95), textcoords='axes fraction',\n",
    "            arrowprops=dict(facecolor='black', shrink=0.05),\n",
    "            horizontalalignment='right', verticalalignment='top',\n",
    "            )\n",
    "'''\n",
    "\n",
    "# annotate 1\n",
    "r1 = means.iloc[2]\n",
    "(x1, y1) = r1['perceptual_loss'] + 1.5e-3, r1['mean_abs_corr'] - 3e-2\n",
    "plt.plot(r1['perceptual_loss'], r1['mean_abs_corr'], marker='*', ms=13)\n",
    "plt.text(x1, y1, 'Regularization = $10^{-1}$')\n",
    "\n",
    "# annotate 2\n",
    "r1 = means.iloc[-1]\n",
    "(x1, y1) = r1['perceptual_loss'] + 1.5e-3, r1['mean_abs_corr'] - 3e-2\n",
    "plt.plot(r1['perceptual_loss'], r1['mean_abs_corr'], marker='*', ms=13)\n",
    "plt.text(x1, y1, 'Unexpanded latent space')\n",
    "\n",
    "plt.ylabel('Mean absolute correlation\\nbetween latent space vectors')\n",
    "plt.xlabel('Perceptual loss')\n",
    "util.savefig('projection_perceptual_loss')\n",
    "plt.show()"
   ]
  },
  {
   "cell_type": "code",
   "execution_count": 58,
   "metadata": {},
   "outputs": [
    {
     "data": {
      "image/png": "[encoded data removed]",
      "text/plain": [
       "<Figure size 483.6x360 with 1 Axes>"
      ]
     },
     "metadata": {
      "needs_background": "light"
     },
     "output_type": "display_data"
    }
   ],
   "source": [
    "d = df\n",
    "sns.lmplot('perceptual_loss', 'mean_abs_corr', d, hue='reg_param')\n",
    "plt.show()"
   ]
  },
  {
   "cell_type": "markdown",
   "metadata": {},
   "source": [
    "### face id preservation"
   ]
  },
  {
   "cell_type": "code",
   "execution_count": 20,
   "metadata": {},
   "outputs": [
    {
     "name": "stderr",
     "output_type": "stream",
     "text": [
      "49it [04:32,  5.55s/it]\n"
     ]
    }
   ],
   "source": [
    "IM_NUMS = np.arange(1, 50)\n",
    "regs = [0, 0.01, 0.1, 1, 10000]\n",
    "\n",
    "dists = {\n",
    "    reg: [] for reg in regs\n",
    "}\n",
    "\n",
    "for r, IM_NUM in tqdm(enumerate(IM_NUMS)):\n",
    "    im_orig_fname = oj(DIR_IMS, f'{IM_NUM:05}.jpg')\n",
    "    im_orig = face_recognition.load_image_file(im_orig_fname)\n",
    "    im_orig_encoding = face_recognition.face_encodings(im_orig)[0]\n",
    "\n",
    "    for reg in regs:\n",
    "        im_new_fname = oj(DIR_PROCESSED, f'generated_images_{reg}/{IM_NUM:05}.png')\n",
    "        im_new = face_recognition.load_image_file(im_new_fname)\n",
    "        im_new_encoding = face_recognition.face_encodings(im_new)[0]\n",
    "        # results = face_recognition.compare_faces([im_orig_encoding], im_new_encoding)\n",
    "        dists[reg].append(face_recognition.face_distance([im_orig_encoding], im_new_encoding)[0])\n",
    "pd.DataFrame.from_dict(dists).to_csv('processed/09_dists_50.csv')"
   ]
  },
  {
   "cell_type": "code",
   "execution_count": 49,
   "metadata": {},
   "outputs": [],
   "source": [
    "df = pd.read_csv('processed/09_dists_50.csv')"
   ]
  },
  {
   "cell_type": "code",
   "execution_count": 50,
   "metadata": {},
   "outputs": [
    {
     "data": {
      "text/html": [
       "<div>\n",
       "<style scoped>\n",
       "    .dataframe tbody tr th:only-of-type {\n",
       "        vertical-align: middle;\n",
       "    }\n",
       "\n",
       "    .dataframe tbody tr th {\n",
       "        vertical-align: top;\n",
       "    }\n",
       "\n",
       "    .dataframe thead th {\n",
       "        text-align: right;\n",
       "    }\n",
       "</style>\n",
       "<table border=\"1\" class=\"dataframe\">\n",
       "  <thead>\n",
       "    <tr style=\"text-align: right;\">\n",
       "      <th></th>\n",
       "      <th>Unnamed: 0</th>\n",
       "      <th>0.0</th>\n",
       "      <th>0.01</th>\n",
       "      <th>0.1</th>\n",
       "      <th>1.0</th>\n",
       "      <th>10000.0</th>\n",
       "    </tr>\n",
       "  </thead>\n",
       "  <tbody>\n",
       "    <tr>\n",
       "      <th>0</th>\n",
       "      <td>0</td>\n",
       "      <td>0.282189</td>\n",
       "      <td>0.242982</td>\n",
       "      <td>0.198791</td>\n",
       "      <td>0.506905</td>\n",
       "      <td>0.686844</td>\n",
       "    </tr>\n",
       "    <tr>\n",
       "      <th>1</th>\n",
       "      <td>1</td>\n",
       "      <td>0.356663</td>\n",
       "      <td>0.346008</td>\n",
       "      <td>0.339731</td>\n",
       "      <td>0.599027</td>\n",
       "      <td>0.579229</td>\n",
       "    </tr>\n",
       "    <tr>\n",
       "      <th>2</th>\n",
       "      <td>2</td>\n",
       "      <td>0.305113</td>\n",
       "      <td>0.306335</td>\n",
       "      <td>0.291769</td>\n",
       "      <td>0.481049</td>\n",
       "      <td>0.606477</td>\n",
       "    </tr>\n",
       "    <tr>\n",
       "      <th>3</th>\n",
       "      <td>3</td>\n",
       "      <td>0.320927</td>\n",
       "      <td>0.352912</td>\n",
       "      <td>0.333150</td>\n",
       "      <td>0.481626</td>\n",
       "      <td>0.780579</td>\n",
       "    </tr>\n",
       "    <tr>\n",
       "      <th>4</th>\n",
       "      <td>4</td>\n",
       "      <td>0.400456</td>\n",
       "      <td>0.277758</td>\n",
       "      <td>0.272367</td>\n",
       "      <td>0.538123</td>\n",
       "      <td>0.663851</td>\n",
       "    </tr>\n",
       "  </tbody>\n",
       "</table>\n",
       "</div>"
      ],
      "text/plain": [
       "   Unnamed: 0       0.0      0.01       0.1       1.0   10000.0\n",
       "0           0  0.282189  0.242982  0.198791  0.506905  0.686844\n",
       "1           1  0.356663  0.346008  0.339731  0.599027  0.579229\n",
       "2           2  0.305113  0.306335  0.291769  0.481049  0.606477\n",
       "3           3  0.320927  0.352912  0.333150  0.481626  0.780579\n",
       "4           4  0.400456  0.277758  0.272367  0.538123  0.663851"
      ]
     },
     "execution_count": 50,
     "metadata": {},
     "output_type": "execute_result"
    }
   ],
   "source": [
    "df.head()"
   ]
  },
  {
   "cell_type": "code",
   "execution_count": null,
   "metadata": {},
   "outputs": [],
   "source": [
    "plt.figure(figsize=(7, 3), dpi=300)\n",
    "plt.hist(df['0.0'], label='0')\n",
    "plt.hist(df['0.01'], alpha=0.5, label='$10^{-2}$')\n",
    "plt.hist(df['0.1'], alpha=0.5, label='$10^{-1}$')\n",
    "plt.hist(df['1.0'], alpha=0.5, label='$10^0$')\n",
    "plt.hist(df['10000.0'], alpha=0.5, label='$10^{5}$')\n",
    "plt.axvline(0.6, linestyle='--', color='black')\n",
    "plt.legend(title='Regularization')\n",
    "plt.xlabel('Facial ID distance between original and\\nprojected image encoding')\n",
    "plt.ylabel('Count')\n",
    "plt.show()"
   ]
  },
  {
   "cell_type": "markdown",
   "metadata": {},
   "source": [
    "### attr accuracy preservation"
   ]
  },
  {
   "cell_type": "code",
   "execution_count": 60,
   "metadata": {},
   "outputs": [
    {
     "name": "stdout",
     "output_type": "stream",
     "text": [
      "['A', 'B', 'C', 'G', 'H', 'M']\n"
     ]
    }
   ],
   "source": [
    "print(ks)"
   ]
  },
  {
   "cell_type": "code",
   "execution_count": null,
   "metadata": {},
   "outputs": [],
   "source": [
    "reg_params = df.reg_param.unique()\n",
    "accs = np.zeros((len(reg_params), len(ks)))\n",
    "mean_diffs = np.zeros((len(reg_params), len(ks)))\n",
    "for i, k in enumerate(ks):\n",
    "    predk = f'pred_{k}'\n",
    "    # labk = f'lab_{k}'\n",
    "    labk = f'{config.LABELS[k]}'\n",
    "    for j, reg_param in enumerate(reg_params):\n",
    "#     sns.lmplot(predk, labk, df, hue='reg_param')\n",
    "        d = df[df.reg_param == reg_param]\n",
    "#         accs[j, i] = np.mean((d[predk] > 0) == (d[labk] > 0))\n",
    "#         mean_diffs[j, i] = np.mean(d[predk][d[labk] == 1]) - np.mean(d[predk][d[labk] == -1])\n",
    "        \n",
    "        accs[j, i] = np.mean((d[predk] > 0) == (d[labk] > 0))\n",
    "        mean_diffs[j, i] = np.mean(d[predk][d[labk] == 1]) - np.mean(d[predk][d[labk] == 0])\n",
    "\n",
    "        \n",
    "def plot_bars(vals, ylab='Accuracy'):\n",
    "    fig, ax = plt.subplots(dpi=300)\n",
    "    ind = np.arange(len(ks)) # the x locations for the groups\n",
    "    ps = []\n",
    "    if ylab == 'Accuracy':\n",
    "        plt.axhline(0.5, color='gray', alpha=0.5)\n",
    "    ax.grid(zorder=0)\n",
    "    for i in range(len(reg_params)):\n",
    "        width = 0.14\n",
    "        val = vals[i, :].flatten()\n",
    "        ps.append(ax.bar(ind + width * i, val, width, zorder=3))\n",
    "    plt.xticks(ind + width * 1.5, [config.LABELS[a] for a in ks], fontsize=10)\n",
    "    \n",
    "    plt.ylabel(ylab)\n",
    "    ax.legend(ps, [f'{reg:.0e}' for reg in reg_params])\n",
    "    plt.show()\n",
    "    \n",
    "# plot_bars(mean_diffs, 'Difference in means')\n",
    "plot_bars(accs, 'Accuracy')"
   ]
  },
  {
   "cell_type": "markdown",
   "metadata": {},
   "source": [
    "# look at images"
   ]
  },
  {
   "cell_type": "code",
   "execution_count": 153,
   "metadata": {},
   "outputs": [],
   "source": [
    "# look at ims\n",
    "ims = []\n",
    "for IM_NUM in np.arange(1, 91):\n",
    "    \n",
    "    ims.append(mpimg.imread(oj(DIR_IMS, f'{IM_NUM:05}.jpg')))\n",
    "\n",
    "images = np.array(ims)\n",
    "images = images.reshape(9, 10, *images.shape[1:])\n",
    "\n",
    "if type(images) == list:\n",
    "    images = np.array(images)\n",
    "N_IMS = images.shape[0]\n",
    "R = images.shape[0]\n",
    "C = images.shape[1]\n",
    "i = 0\n",
    "plt.figure(figsize=(C * 3, R * 3))\n",
    "for r in range(R):\n",
    "    for c in range(C):\n",
    "        plt.subplot(R, C, i + 1)\n",
    "        util.imshow(images[r, c])\n",
    "        plt.title(str(df['gender'].values[i]))\n",
    "\n",
    "        i += 1\n",
    "\n",
    "plt.subplot(R, C, N_IMS // 2 + 1)\n",
    "plt.tight_layout()"
   ]
  },
  {
   "cell_type": "markdown",
   "metadata": {},
   "source": [
    "### celeba-hq"
   ]
  },
  {
   "cell_type": "code",
   "execution_count": 37,
   "metadata": {},
   "outputs": [],
   "source": [
    "regs = [0, 0.01, 0.1, 1, 10000] # there are also some for 0.01, 10 -- these weren't as good so let's ignore these\n",
    "IM_NUMS = np.arange(10)"
   ]
  },
  {
   "cell_type": "code",
   "execution_count": null,
   "metadata": {},
   "outputs": [],
   "source": [
    "R, C = len(IM_NUMS), 1 + len(regs)\n",
    "plt.figure(dpi=120, figsize=(C*2.5, R*2.5))\n",
    "for r, IM_NUM in enumerate(IM_NUMS):\n",
    "    ims = []\n",
    "    latents = []\n",
    "    im_orig = mpimg.imread(oj(DIR_IMS, f'{IM_NUM:05}.jpg'))\n",
    "    for reg in regs:\n",
    "        folder = f'generated_images_{reg}'\n",
    "        im_fname = oj(DIR_PROCESSED, folder, f'{IM_NUM:05}.png')\n",
    "        ims.append(mpimg.imread(im_fname))\n",
    "        latents.append(np.load(oj(DIR_PROCESSED, folder, f'{IM_NUM:05}.npy')))\n",
    "        # print(np.mean(np.abs(np.corrcoef(latents[-1]))))\n",
    "\n",
    "    \n",
    "    plt.subplot(R, C, C * r + 1)\n",
    "    util.imshow(im_orig)\n",
    "    if r == 0:\n",
    "        plt.title('orig', fontsize=9)\n",
    "\n",
    "    for i in range(len(regs)):\n",
    "        plt.subplot(R, C, C * r + 2 + i)\n",
    "        util.imshow(ims[i])\n",
    "        if r == 0:\n",
    "            plt.title(f'reg={regs[i]:.2e}', fontsize=9)\n",
    "    latents = np.array(latents)\n",
    "plt.tight_layout()"
   ]
  },
  {
   "cell_type": "markdown",
   "metadata": {},
   "source": [
    "### stylegan2-generated"
   ]
  },
  {
   "cell_type": "code",
   "execution_count": 2,
   "metadata": {},
   "outputs": [],
   "source": [
    "DIR_ORIG = '../data/annotation-dataset-stylegan2/images'\n",
    "DIRS_STYLEGAN = '../data_processed/stylegan2'"
   ]
  },
  {
   "cell_type": "code",
   "execution_count": 3,
   "metadata": {},
   "outputs": [],
   "source": [
    "regs = [0, 0.1, 1, 10000]\n",
    "IM_NUMS = [0, 1, 10]"
   ]
  },
  {
   "cell_type": "code",
   "execution_count": null,
   "metadata": {},
   "outputs": [],
   "source": [
    "plt.figure(dpi=300)\n",
    "R, C = len(IM_NUMS), 1 + len(regs)\n",
    "for r, IM_NUM in enumerate(IM_NUMS):\n",
    "    ims = []\n",
    "    latents = []\n",
    "    im_orig = mpimg.imread(oj(DIR_ORIG, f'{IM_NUM}.jpg'))\n",
    "    for reg in regs:\n",
    "        folder = f'generated_images_{reg}'\n",
    "        im_fname = oj(DIRS_STYLEGAN, folder, f'{IM_NUM}.png')\n",
    "        ims.append(mpimg.imread(im_fname))\n",
    "        latents.append(np.load(oj(DIRS_STYLEGAN, folder, f'{IM_NUM}.npy')))\n",
    "        print(np.mean(np.abs(np.corrcoef(latents[-1]))))\n",
    "\n",
    "    \n",
    "    plt.subplot(R, C, C * r + 1)\n",
    "    util.imshow(im_orig)\n",
    "\n",
    "    for i in range(len(regs)):\n",
    "        plt.subplot(R, C, C * r + 2 + i)\n",
    "        util.imshow(ims[i])"
   ]
  },
  {
   "cell_type": "markdown",
   "metadata": {},
   "source": [
    "### celeba (not hq)"
   ]
  },
  {
   "cell_type": "code",
   "execution_count": 5,
   "metadata": {},
   "outputs": [],
   "source": [
    "DIR_ORIG_CELEBA = '../data/CelebA/Img/img_align_celeba'\n",
    "DIR_SQUARE_CELEBA = '../data/CelebA/Img/img_square_celeba'"
   ]
  },
  {
   "cell_type": "markdown",
   "metadata": {},
   "source": [
    "**need to first preprocess celeba to be square before running the pipeline**"
   ]
  },
  {
   "cell_type": "code",
   "execution_count": null,
   "metadata": {},
   "outputs": [],
   "source": [
    "for fname in tqdm(sorted(os.listdir(DIR_ORIG_CELEBA))):\n",
    "    if '.jpg' in fname:\n",
    "        im = mpimg.imread(oj(DIR_ORIG_CELEBA, fname))\n",
    "        if not im.shape[0] == im.shape[1]:\n",
    "            im = im[20:-20]\n",
    "        plt.imsave(oj(DIR_SQUARE_CELEBA, fname), im)"
   ]
  }
 ],
 "metadata": {
  "kernelspec": {
   "display_name": "Environment (conda_python3)",
   "language": "python",
   "name": "conda_python3"
  },
  "language_info": {
   "codemirror_mode": {
    "name": "ipython",
    "version": 3
   },
   "file_extension": ".py",
   "mimetype": "text/x-python",
   "name": "python",
   "nbconvert_exporter": "python",
   "pygments_lexer": "ipython3",
   "version": "3.6.10"
  }
 },
 "nbformat": 4,
 "nbformat_minor": 4
}
