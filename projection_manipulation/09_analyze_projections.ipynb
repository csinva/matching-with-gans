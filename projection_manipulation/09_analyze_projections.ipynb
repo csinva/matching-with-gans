{
 "cells": [
  {
   "cell_type": "code",
   "execution_count": 6,
   "metadata": {},
   "outputs": [
    {
     "name": "stdout",
     "output_type": "stream",
     "text": [
      "The autoreload extension is already loaded. To reload it, use:\n",
      "  %reload_ext autoreload\n"
     ]
    }
   ],
   "source": [
    "%load_ext autoreload\n",
    "%autoreload 2\n",
    "import os\n",
    "from os.path import join as oj\n",
    "\n",
    "import matplotlib.image as mpimg\n",
    "import matplotlib.pyplot as plt\n",
    "import numpy as np\n",
    "import pandas as pd\n",
    "import seaborn as sns\n",
    "from tqdm import tqdm\n",
    "import sys\n",
    "sys.path.append('..')\n",
    "\n",
    "import config\n",
    "from config import *\n",
    "import util"
   ]
  },
  {
   "cell_type": "markdown",
   "metadata": {},
   "source": [
    "# look at celeba-hq"
   ]
  },
  {
   "cell_type": "code",
   "execution_count": 2,
   "metadata": {},
   "outputs": [],
   "source": [
    "regs = [0, 0.1, 1, 10000]\n",
    "IM_NUMS = np.arange(20, 30)"
   ]
  },
  {
   "cell_type": "code",
   "execution_count": null,
   "metadata": {},
   "outputs": [],
   "source": [
    "R, C = len(IM_NUMS), 1 + len(regs)\n",
    "plt.figure(dpi=120, figsize=(C*2.5, R*2.5))\n",
    "for r, IM_NUM in enumerate(IM_NUMS):\n",
    "    ims = []\n",
    "    latents = []\n",
    "    im_orig = mpimg.imread(oj(DIR_IMS, f'{IM_NUM:05}.jpg'))\n",
    "    for reg in regs:\n",
    "        folder = f'generated_images_{reg}'\n",
    "        im_fname = oj(DIR_PROCESSED, folder, f'{IM_NUM:05}.png')\n",
    "        ims.append(mpimg.imread(im_fname))\n",
    "        latents.append(np.load(oj(DIR_PROCESSED, folder, f'{IM_NUM:05}.npy')))\n",
    "        # print(np.mean(np.abs(np.corrcoef(latents[-1]))))\n",
    "\n",
    "    \n",
    "    plt.subplot(R, C, C * r + 1)\n",
    "    util.imshow(im_orig)\n",
    "    if r == 0:\n",
    "        plt.title('orig', fontsize=9)\n",
    "\n",
    "    for i in range(len(regs)):\n",
    "        plt.subplot(R, C, C * r + 2 + i)\n",
    "        util.imshow(ims[i])\n",
    "        if r == 0:\n",
    "            plt.title(f'reg={regs[i]:.2e}', fontsize=9)\n",
    "    latents = np.array(latents)\n",
    "plt.tight_layout()"
   ]
  },
  {
   "cell_type": "markdown",
   "metadata": {},
   "source": [
    "## quantitative eval"
   ]
  },
  {
   "cell_type": "code",
   "execution_count": 36,
   "metadata": {},
   "outputs": [
    {
     "name": "stdout",
     "output_type": "stream",
     "text": [
      "generated_images_10000 first 300 calculated\n",
      "generated_images_10 first 62 calculated\n",
      "generated_images_1 first 1541 calculated\n",
      "generated_images_0.1 first 8659 calculated\n",
      "generated_images_0 first 321 calculated\n",
      "generated_images_0.01 first 354 calculated\n"
     ]
    }
   ],
   "source": [
    "# check if first generations are done\n",
    "for d in os.listdir(DIR_PROCESSED):\n",
    "    if 'generated_images_' in d:\n",
    "        num = 0\n",
    "        for num in range(30000):\n",
    "            s = f'{num + 1:05d}.npy'\n",
    "            if not os.path.exists(oj(DIR_PROCESSED, d, s)):\n",
    "                break\n",
    "        print(d, 'first', num, 'calculated')\n",
    "        \n",
    "    # save out first 300\n",
    "    \n",
    "    "
   ]
  },
  {
   "cell_type": "code",
   "execution_count": 27,
   "metadata": {},
   "outputs": [
    {
     "name": "stdout",
     "output_type": "stream",
     "text": [
      "18268.0\n"
     ]
    }
   ],
   "source": [
    "exists = np.zeros(30000)\n",
    "for num in range(30000):\n",
    "    s = f'{num + 1:05d}.npy'\n",
    "    exists[num] = os.path.exists(oj(DIR_GEN, s))\n",
    "print(np.sum(exists))"
   ]
  },
  {
   "cell_type": "code",
   "execution_count": 35,
   "metadata": {},
   "outputs": [
    {
     "name": "stdout",
     "output_type": "stream",
     "text": [
      "25577.png\n"
     ]
    }
   ],
   "source": [
    "print(sorted(os.listdir(DIR_GEN))[-1])"
   ]
  },
  {
   "cell_type": "code",
   "execution_count": 31,
   "metadata": {},
   "outputs": [
    {
     "data": {
      "image/png": "[encoded data removed]",
      "text/plain": [
       "<Figure size 432x288 with 1 Axes>"
      ]
     },
     "metadata": {
      "needs_background": "light"
     },
     "output_type": "display_data"
    }
   ],
   "source": [
    "plt.plot(np.arange(30000)[exists == 0])\n",
    "plt.grid()"
   ]
  },
  {
   "cell_type": "code",
   "execution_count": 71,
   "metadata": {},
   "outputs": [],
   "source": [
    "from process_latents import ks\n",
    "import data\n",
    "\n",
    "\n",
    "df = pd.read_pickle('processed/09_df_99.pkl')\n",
    "df = df[[k for k in df.keys() if not 'lab' in k]] # add in new labs\n",
    "labs, labs_full = data.load_labs()\n",
    "labs = labs[:df.shape[0]]\n",
    "\n",
    "# print(labs.head())\n",
    "for k in labs.keys():\n",
    "    df[k] = labs[k].values"
   ]
  },
  {
   "cell_type": "code",
   "execution_count": 72,
   "metadata": {},
   "outputs": [
    {
     "data": {
      "text/plain": [
       "Index(['5_o_Clock_Shadow', 'Arched_Eyebrows', 'Attractive', 'Bags_Under_Eyes',\n",
       "       'Bald', 'Bangs', 'Big_Lips', 'Big_Nose', 'Black_Hair', 'Blond_Hair',\n",
       "       'Blurry', 'Brown_Hair', 'Bushy_Eyebrows', 'Chubby', 'Double_Chin',\n",
       "       'Eyeglasses', 'Goatee', 'Gray_Hair', 'Heavy_Makeup', 'High_Cheekbones',\n",
       "       'Male', 'Mouth_Slightly_Open', 'Mustache', 'Narrow_Eyes', 'No_Beard',\n",
       "       'Oval_Face', 'Pale_Skin', 'Pointy_Nose', 'Receding_Hairline',\n",
       "       'Rosy_Cheeks', 'Sideburns', 'Smiling', 'Straight_Hair', 'Wavy_Hair',\n",
       "       'Wearing_Earrings', 'Wearing_Hat', 'Wearing_Lipstick',\n",
       "       'Wearing_Necklace', 'Wearing_Necktie', 'Young'],\n",
       "      dtype='object')"
      ]
     },
     "execution_count": 72,
     "metadata": {},
     "output_type": "execute_result"
    }
   ],
   "source": [
    "labs_full.keys()"
   ]
  },
  {
   "cell_type": "code",
   "execution_count": 73,
   "metadata": {},
   "outputs": [
    {
     "data": {
      "text/plain": [
       "Index(['perceptual_loss', 'mean_abs_corr', 'im_num', 'reg_param', 'pred_A',\n",
       "       'pred_B', 'pred_C', 'pred_G', 'pred_H', 'pred_M', 'gender',\n",
       "       'hair-length', 'facial-hair', 'makeup', 'skin-color', 'age'],\n",
       "      dtype='object')"
      ]
     },
     "execution_count": 73,
     "metadata": {},
     "output_type": "execute_result"
    }
   ],
   "source": [
    "df.keys()"
   ]
  },
  {
   "cell_type": "code",
   "execution_count": null,
   "metadata": {},
   "outputs": [],
   "source": [
    "reg_params = df.reg_param.unique()\n",
    "accs = np.zeros((len(reg_params), len(ks)))\n",
    "mean_diffs = np.zeros((len(reg_params), len(ks)))\n",
    "for i, k in enumerate(ks):\n",
    "    predk = f'pred_{k}'\n",
    "    # labk = f'lab_{k}'\n",
    "    labk = f'{config.LABELS[k]}'\n",
    "    for j, reg_param in enumerate(reg_params):\n",
    "#     sns.lmplot(predk, labk, df, hue='reg_param')\n",
    "        d = df[df.reg_param == reg_param]\n",
    "#         accs[j, i] = np.mean((d[predk] > 0) == (d[labk] > 0))\n",
    "#         mean_diffs[j, i] = np.mean(d[predk][d[labk] == 1]) - np.mean(d[predk][d[labk] == -1])\n",
    "        \n",
    "        accs[j, i] = np.mean((d[predk] > 0) == (d[labk] > 0))\n",
    "        mean_diffs[j, i] = np.mean(d[predk][d[labk] == 1]) - np.mean(d[predk][d[labk] == 0])\n",
    "\n",
    "        \n",
    "def plot_bars(vals, ylab='Accuracy'):\n",
    "    fig, ax = plt.subplots(dpi=300)\n",
    "    ind = np.arange(len(ks)) # the x locations for the groups\n",
    "    ps = []\n",
    "    if ylab == 'Accuracy':\n",
    "        plt.axhline(0.5, color='gray', alpha=0.5)\n",
    "    ax.grid(zorder=0)\n",
    "    for i in range(len(reg_params)):\n",
    "        width = 0.14\n",
    "        val = vals[i, :].flatten()\n",
    "        ps.append(ax.bar(ind + width * i, val, width, zorder=3))\n",
    "    plt.xticks(ind + width * 1.5, [config.LABELS[a] for a in ks], fontsize=10)\n",
    "    \n",
    "    plt.ylabel(ylab)\n",
    "    ax.legend(ps, [f'{reg:.0e}' for reg in reg_params])\n",
    "    plt.show()\n",
    "    \n",
    "# plot_bars(mean_diffs, 'Difference in means')\n",
    "plot_bars(accs, 'Accuracy')"
   ]
  },
  {
   "cell_type": "markdown",
   "metadata": {},
   "source": [
    "## misc plots"
   ]
  },
  {
   "cell_type": "code",
   "execution_count": null,
   "metadata": {},
   "outputs": [],
   "source": [
    "plt.figure(dpi=300)\n",
    "# plot means\n",
    "means = df.groupby('reg_param').mean().reset_index()\n",
    "# print(means)\n",
    "plt.plot(means['perceptual_loss'], means['mean_abs_corr'], 'o-')\n",
    "r0 = means.iloc[0]\n",
    "(x0, y0) = r0['perceptual_loss'] + 1e-3, r0['mean_abs_corr']\n",
    "plt.text(x0, y0, 'No regularization')\n",
    "r1 = means.iloc[2]\n",
    "(x1, y1) = r1['perceptual_loss'] + 1.5e-3, r1['mean_abs_corr'] - 3e-2\n",
    "plt.plot(r1['perceptual_loss'], r1['mean_abs_corr'], marker='*', ms=13)\n",
    "plt.text(x1, y1, 'Regularization = $10^{-1}$')\n",
    "plt.ylabel('Mean absolute correlation\\nbetween latent space vectors')\n",
    "plt.xlabel('Perceptual loss')\n",
    "plt.show()"
   ]
  },
  {
   "cell_type": "code",
   "execution_count": null,
   "metadata": {},
   "outputs": [],
   "source": [
    "# plot means\n",
    "means = df.groupby('reg_param').mean().reset_index()\n",
    "plt.plot(means['perceptual_loss'], means['mean_abs_corr'], 'o-')\n",
    "plt.ylabel('Mean absolute correlation\\nbetween latent space vectors')\n",
    "plt.xlabel('Perceptual loss')"
   ]
  },
  {
   "cell_type": "code",
   "execution_count": null,
   "metadata": {},
   "outputs": [],
   "source": [
    "R, C = 2, 3\n",
    "for i, k in enumerate(ks):\n",
    "    predk = f'pred_{k}'\n",
    "    labk = f'lab_{k}'\n",
    "    sns.lmplot(predk, labk, df, hue='reg_param')\n",
    "    plt.show()"
   ]
  },
  {
   "cell_type": "code",
   "execution_count": null,
   "metadata": {},
   "outputs": [],
   "source": [
    "# plt.plot(df['perceptual_loss'], df['mean_abs_corr'], '.')\n",
    "# d = df[df['im_num'] == 2]\n",
    "d = df\n",
    "sns.lmplot('perceptual_loss', 'mean_abs_corr', d, hue='reg_param')\n",
    "plt.show()"
   ]
  },
  {
   "cell_type": "markdown",
   "metadata": {},
   "source": [
    "## face id"
   ]
  },
  {
   "cell_type": "code",
   "execution_count": 17,
   "metadata": {},
   "outputs": [],
   "source": [
    "import face_recognition"
   ]
  },
  {
   "cell_type": "code",
   "execution_count": 20,
   "metadata": {},
   "outputs": [
    {
     "name": "stderr",
     "output_type": "stream",
     "text": [
      "49it [04:32,  5.55s/it]\n"
     ]
    }
   ],
   "source": [
    "IM_NUMS = np.arange(1, 50)\n",
    "regs = [0, 0.01, 0.1, 1, 10000]\n",
    "\n",
    "dists = {\n",
    "    reg: [] for reg in regs\n",
    "}\n",
    "\n",
    "for r, IM_NUM in tqdm(enumerate(IM_NUMS)):\n",
    "    im_orig_fname = oj(DIR_IMS, f'{IM_NUM:05}.jpg')\n",
    "    im_orig = face_recognition.load_image_file(im_orig_fname)\n",
    "    im_orig_encoding = face_recognition.face_encodings(im_orig)[0]\n",
    "\n",
    "    for reg in regs:\n",
    "        im_new_fname = oj(DIR_PROCESSED, f'generated_images_{reg}/{IM_NUM:05}.png')\n",
    "        im_new = face_recognition.load_image_file(im_new_fname)\n",
    "        im_new_encoding = face_recognition.face_encodings(im_new)[0]\n",
    "        # results = face_recognition.compare_faces([im_orig_encoding], im_new_encoding)\n",
    "        dists[reg].append(face_recognition.face_distance([im_orig_encoding], im_new_encoding)[0])\n",
    "pd.DataFrame.from_dict(dists).to_csv('processed/09_dists_50.csv')"
   ]
  },
  {
   "cell_type": "code",
   "execution_count": 49,
   "metadata": {},
   "outputs": [],
   "source": [
    "df = pd.read_csv('processed/09_dists_50.csv')"
   ]
  },
  {
   "cell_type": "code",
   "execution_count": 50,
   "metadata": {},
   "outputs": [
    {
     "data": {
      "text/html": [
       "<div>\n",
       "<style scoped>\n",
       "    .dataframe tbody tr th:only-of-type {\n",
       "        vertical-align: middle;\n",
       "    }\n",
       "\n",
       "    .dataframe tbody tr th {\n",
       "        vertical-align: top;\n",
       "    }\n",
       "\n",
       "    .dataframe thead th {\n",
       "        text-align: right;\n",
       "    }\n",
       "</style>\n",
       "<table border=\"1\" class=\"dataframe\">\n",
       "  <thead>\n",
       "    <tr style=\"text-align: right;\">\n",
       "      <th></th>\n",
       "      <th>Unnamed: 0</th>\n",
       "      <th>0.0</th>\n",
       "      <th>0.01</th>\n",
       "      <th>0.1</th>\n",
       "      <th>1.0</th>\n",
       "      <th>10000.0</th>\n",
       "    </tr>\n",
       "  </thead>\n",
       "  <tbody>\n",
       "    <tr>\n",
       "      <th>0</th>\n",
       "      <td>0</td>\n",
       "      <td>0.282189</td>\n",
       "      <td>0.242982</td>\n",
       "      <td>0.198791</td>\n",
       "      <td>0.506905</td>\n",
       "      <td>0.686844</td>\n",
       "    </tr>\n",
       "    <tr>\n",
       "      <th>1</th>\n",
       "      <td>1</td>\n",
       "      <td>0.356663</td>\n",
       "      <td>0.346008</td>\n",
       "      <td>0.339731</td>\n",
       "      <td>0.599027</td>\n",
       "      <td>0.579229</td>\n",
       "    </tr>\n",
       "    <tr>\n",
       "      <th>2</th>\n",
       "      <td>2</td>\n",
       "      <td>0.305113</td>\n",
       "      <td>0.306335</td>\n",
       "      <td>0.291769</td>\n",
       "      <td>0.481049</td>\n",
       "      <td>0.606477</td>\n",
       "    </tr>\n",
       "    <tr>\n",
       "      <th>3</th>\n",
       "      <td>3</td>\n",
       "      <td>0.320927</td>\n",
       "      <td>0.352912</td>\n",
       "      <td>0.333150</td>\n",
       "      <td>0.481626</td>\n",
       "      <td>0.780579</td>\n",
       "    </tr>\n",
       "    <tr>\n",
       "      <th>4</th>\n",
       "      <td>4</td>\n",
       "      <td>0.400456</td>\n",
       "      <td>0.277758</td>\n",
       "      <td>0.272367</td>\n",
       "      <td>0.538123</td>\n",
       "      <td>0.663851</td>\n",
       "    </tr>\n",
       "  </tbody>\n",
       "</table>\n",
       "</div>"
      ],
      "text/plain": [
       "   Unnamed: 0       0.0      0.01       0.1       1.0   10000.0\n",
       "0           0  0.282189  0.242982  0.198791  0.506905  0.686844\n",
       "1           1  0.356663  0.346008  0.339731  0.599027  0.579229\n",
       "2           2  0.305113  0.306335  0.291769  0.481049  0.606477\n",
       "3           3  0.320927  0.352912  0.333150  0.481626  0.780579\n",
       "4           4  0.400456  0.277758  0.272367  0.538123  0.663851"
      ]
     },
     "execution_count": 50,
     "metadata": {},
     "output_type": "execute_result"
    }
   ],
   "source": [
    "df.head()"
   ]
  },
  {
   "cell_type": "code",
   "execution_count": null,
   "metadata": {},
   "outputs": [],
   "source": [
    "plt.figure(figsize=(7, 3), dpi=300)\n",
    "plt.hist(df['0.0'], label='0')\n",
    "plt.hist(df['0.01'], alpha=0.5, label='$10^{-2}$')\n",
    "plt.hist(df['0.1'], alpha=0.5, label='$10^{-1}$')\n",
    "plt.hist(df['1.0'], alpha=0.5, label='$10^0$')\n",
    "plt.hist(df['10000.0'], alpha=0.5, label='$10^{5}$')\n",
    "plt.axvline(0.6, linestyle='--', color='black')\n",
    "plt.legend(title='Regularization')\n",
    "plt.xlabel('Facial ID distance between original and\\nprojected image encoding')\n",
    "plt.ylabel('Count')\n",
    "plt.show()"
   ]
  },
  {
   "cell_type": "code",
   "execution_count": null,
   "metadata": {},
   "outputs": [],
   "source": [
    "df"
   ]
  },
  {
   "cell_type": "markdown",
   "metadata": {},
   "source": [
    "## look at ims"
   ]
  },
  {
   "cell_type": "code",
   "execution_count": 153,
   "metadata": {},
   "outputs": [],
   "source": [
    "# look at ims\n",
    "ims = []\n",
    "for IM_NUM in np.arange(1, 91):\n",
    "    \n",
    "    ims.append(mpimg.imread(oj(DIR_IMS, f'{IM_NUM:05}.jpg')))\n",
    "\n",
    "images = np.array(ims)\n",
    "images = images.reshape(9, 10, *images.shape[1:])\n",
    "\n",
    "if type(images) == list:\n",
    "    images = np.array(images)\n",
    "N_IMS = images.shape[0]\n",
    "R = images.shape[0]\n",
    "C = images.shape[1]\n",
    "i = 0\n",
    "plt.figure(figsize=(C * 3, R * 3))\n",
    "for r in range(R):\n",
    "    for c in range(C):\n",
    "        plt.subplot(R, C, i + 1)\n",
    "        util.imshow(images[r, c])\n",
    "        plt.title(str(df['gender'].values[i]))\n",
    "\n",
    "        i += 1\n",
    "\n",
    "plt.subplot(R, C, N_IMS // 2 + 1)\n",
    "plt.tight_layout()"
   ]
  },
  {
   "cell_type": "markdown",
   "metadata": {},
   "source": [
    "# Look at stylegan-generated images"
   ]
  },
  {
   "cell_type": "code",
   "execution_count": 2,
   "metadata": {},
   "outputs": [],
   "source": [
    "DIR_ORIG = '../data/annotation-dataset-stylegan2/images'\n",
    "DIRS_STYLEGAN = '../data_processed/stylegan2'"
   ]
  },
  {
   "cell_type": "code",
   "execution_count": 3,
   "metadata": {},
   "outputs": [],
   "source": [
    "regs = [0, 0.1, 1, 10000]\n",
    "IM_NUMS = [0, 1, 10]"
   ]
  },
  {
   "cell_type": "code",
   "execution_count": null,
   "metadata": {},
   "outputs": [],
   "source": [
    "plt.figure(dpi=300)\n",
    "R, C = len(IM_NUMS), 1 + len(regs)\n",
    "for r, IM_NUM in enumerate(IM_NUMS):\n",
    "    ims = []\n",
    "    latents = []\n",
    "    im_orig = mpimg.imread(oj(DIR_ORIG, f'{IM_NUM}.jpg'))\n",
    "    for reg in regs:\n",
    "        folder = f'generated_images_{reg}'\n",
    "        im_fname = oj(DIRS_STYLEGAN, folder, f'{IM_NUM}.png')\n",
    "        ims.append(mpimg.imread(im_fname))\n",
    "        latents.append(np.load(oj(DIRS_STYLEGAN, folder, f'{IM_NUM}.npy')))\n",
    "        print(np.mean(np.abs(np.corrcoef(latents[-1]))))\n",
    "\n",
    "    \n",
    "    plt.subplot(R, C, C * r + 1)\n",
    "    util.imshow(im_orig)\n",
    "\n",
    "    for i in range(len(regs)):\n",
    "        plt.subplot(R, C, C * r + 2 + i)\n",
    "        util.imshow(ims[i])"
   ]
  },
  {
   "cell_type": "markdown",
   "metadata": {},
   "source": [
    "# celeba (not hq)"
   ]
  },
  {
   "cell_type": "code",
   "execution_count": 5,
   "metadata": {},
   "outputs": [],
   "source": [
    "DIR_ORIG_CELEBA = '../data/CelebA/Img/img_align_celeba'\n",
    "DIR_SQUARE_CELEBA = '../data/CelebA/Img/img_square_celeba'"
   ]
  },
  {
   "cell_type": "markdown",
   "metadata": {},
   "source": [
    "**need to first preprocess celeba to be square before running the pipeline**"
   ]
  },
  {
   "cell_type": "code",
   "execution_count": null,
   "metadata": {},
   "outputs": [],
   "source": [
    "for fname in tqdm(sorted(os.listdir(DIR_ORIG_CELEBA))):\n",
    "    if '.jpg' in fname:\n",
    "        im = mpimg.imread(oj(DIR_ORIG_CELEBA, fname))\n",
    "        if not im.shape[0] == im.shape[1]:\n",
    "            im = im[20:-20]\n",
    "        plt.imsave(oj(DIR_SQUARE_CELEBA, fname), im)"
   ]
  }
 ],
 "metadata": {
  "kernelspec": {
   "display_name": "Environment (conda_python3)",
   "language": "python",
   "name": "conda_python3"
  },
  "language_info": {
   "codemirror_mode": {
    "name": "ipython",
    "version": 3
   },
   "file_extension": ".py",
   "mimetype": "text/x-python",
   "name": "python",
   "nbconvert_exporter": "python",
   "pygments_lexer": "ipython3",
   "version": "3.6.10"
  }
 },
 "nbformat": 4,
 "nbformat_minor": 4
}
