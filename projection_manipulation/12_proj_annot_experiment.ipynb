{
 "cells": [
  {
   "cell_type": "code",
   "execution_count": 1,
   "metadata": {},
   "outputs": [
    {
     "name": "stdout",
     "output_type": "stream",
     "text": [
      "loading cached labels\n"
     ]
    }
   ],
   "source": [
    "%load_ext autoreload\n",
    "%autoreload 2\n",
    "import os\n",
    "from os.path import join as oj\n",
    "\n",
    "import matplotlib.image as mpimg\n",
    "import matplotlib.pyplot as plt\n",
    "import numpy as np\n",
    "import pandas as pd\n",
    "from tqdm import tqdm\n",
    "import sys\n",
    "import pickle as pkl\n",
    "sys.path.append('..')\n",
    "\n",
    "import data\n",
    "import style\n",
    "import config\n",
    "from config import *\n",
    "import util\n",
    "\n",
    "df = data.load_all_labs()\n",
    "df = df.set_index('fname_id')\n",
    "\n",
    "# get fnames\n",
    "fname_nps = [f for f in sorted(os.listdir(DIR_GEN)) if 'npy' in f] # these start at 00001\n",
    "fname_ids = np.array([f[:-4] for f in fname_nps])\n",
    "idxs_calculated = np.array([int(x) - 1 for x in fname_ids]) # this starts at 0\n",
    "\n",
    "# trim df to only have the relevant ids\n",
    "df = df.loc[fname_ids]"
   ]
  },
  {
   "cell_type": "markdown",
   "metadata": {},
   "source": [
    "# select celebrities"
   ]
  },
  {
   "cell_type": "code",
   "execution_count": 4,
   "metadata": {},
   "outputs": [
    {
     "name": "stdout",
     "output_type": "stream",
     "text": [
      "0 Black | 91 ids\t 468 photos\n",
      "0 White | 1468 ids\t 8536 photos\n",
      "1 Black | 157 ids\t 570 photos\n",
      "1 White | 842 ids\t 3608 photos\n"
     ]
    }
   ],
   "source": [
    "N_IMS_PER_SUBGROUP = 15\n",
    "# only consider ids with more than 2 ims\n",
    "d = df[df['count_with_this_id'] > 2]\n",
    "\n",
    "# sort by how many ids each image has\n",
    "d = d.sort_values('count_with_this_id', ascending=False)\n",
    "\n",
    "# get ids for subgroups\n",
    "subgroups = {}\n",
    "for gender in [0, 1]:\n",
    "    for race in ['Black', 'White']:\n",
    "        dd = d[d['gender'] == gender]\n",
    "        dd = dd[dd['race_pred'] == race]\n",
    "        print(gender, race, '|', dd.id.unique().size, 'ids\\t', dd.shape[0], 'photos')        \n",
    "        subgroups[(gender, race)] = dd.id.unique()[:N_IMS_PER_SUBGROUP]\n"
   ]
  },
  {
   "cell_type": "code",
   "execution_count": 5,
   "metadata": {},
   "outputs": [],
   "source": [
    "def pair_plot(im0, im1):\n",
    "    R, C = 1, 2\n",
    "    plt.subplot(R, C, 1)\n",
    "    plt.title('Real photo')\n",
    "    util.imshow(im0)\n",
    "    plt.subplot(R, C, 2)\n",
    "    plt.title('Test photo')\n",
    "    util.imshow(im1)\n",
    "    plt.tight_layout()\n",
    "    \n",
    "def slight_random_crop(im):\n",
    "    x = np.random.randint(20, 35)\n",
    "    return im[x: -x, x: -x]"
   ]
  },
  {
   "cell_type": "code",
   "execution_count": null,
   "metadata": {},
   "outputs": [],
   "source": [
    "np.random.seed(13)\n",
    "N_IMS = 15\n",
    "EXPERIMENT_DIR = oj(DIR_PROCESSED, 'projections_annotation', 'ims')\n",
    "os.makedirs(EXPERIMENT_DIR, exist_ok=True)\n",
    "for gender, race in tqdm(subgroups.keys()):\n",
    "    # print(gender, race)\n",
    "    ids = subgroups[(gender, race)]\n",
    "    for i in ids[:N_IMS]:\n",
    "        ims = d[d.id == i].iloc[:2]\n",
    "        im0 = mpimg.imread(oj(DIR_IMS, ims.fname_final.values[0]))\n",
    "        im1 = mpimg.imread(oj(DIR_IMS, ims.fname_final.values[1]))\n",
    "        im1_rec = mpimg.imread(oj(DIR_GEN, ims.fname_final.values[1][:-4] + '.png'))\n",
    "        pair_plot(im0, im1)\n",
    "        plt.savefig(oj(EXPERIMENT_DIR, f'{gender}_{race}_{i}_real.png'), dpi=300)\n",
    "        pair_plot(im0, im1_rec)\n",
    "        plt.savefig(oj(EXPERIMENT_DIR, f'{gender}_{race}_{i}_fake.png'), dpi=300)\n",
    "        pair_plot(im0, slight_random_crop(im0))\n",
    "        plt.savefig(oj(EXPERIMENT_DIR, f'{gender}_{race}_{i}_dup.png'), dpi=300)        "
   ]
  }
 ],
 "metadata": {
  "kernelspec": {
   "display_name": "Environment (conda_python3)",
   "language": "python",
   "name": "conda_python3"
  },
  "language_info": {
   "codemirror_mode": {
    "name": "ipython",
    "version": 3
   },
   "file_extension": ".py",
   "mimetype": "text/x-python",
   "name": "python",
   "nbconvert_exporter": "python",
   "pygments_lexer": "ipython3",
   "version": "3.6.10"
  }
 },
 "nbformat": 4,
 "nbformat_minor": 4
}
