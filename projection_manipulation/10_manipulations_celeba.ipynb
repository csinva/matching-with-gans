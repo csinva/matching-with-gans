{
 "cells": [
  {
   "cell_type": "code",
   "execution_count": 13,
   "metadata": {},
   "outputs": [
    {
     "name": "stdout",
     "output_type": "stream",
     "text": [
      "The autoreload extension is already loaded. To reload it, use:\n",
      "  %reload_ext autoreload\n"
     ]
    }
   ],
   "source": [
    "%load_ext autoreload\n",
    "%autoreload 2\n",
    "import os\n",
    "\n",
    "import matplotlib.image as mpimg\n",
    "import matplotlib.pyplot as plt\n",
    "import numpy as np\n",
    "import sys\n",
    "sys.path.append('..')\n",
    "import transects\n",
    "from ganwrapper import Generator\n",
    "from tqdm import tqdm\n",
    "\n",
    "import util\n",
    "from config import *\n",
    "G = Generator(image_size=512)"
   ]
  },
  {
   "cell_type": "code",
   "execution_count": 18,
   "metadata": {},
   "outputs": [],
   "source": [
    "# load latents across reg vals\n",
    "im_num = 0\n",
    "regs = [10000, 1e-1, 0]\n",
    "latents = []\n",
    "im_orig = mpimg.imread(oj(DIR_IMS, f'{im_num + 1:05}.jpg'))\n",
    "for reg in regs:\n",
    "    folder = f'generated_images_{reg}'\n",
    "    im_fname = oj(DIR_PROCESSED, folder, f'{im_num + 1:05}.png')\n",
    "    ims.append(mpimg.imread(im_fname))\n",
    "    latents.append(np.load(oj(DIR_PROCESSED, folder, f'{im_num + 1:05}.npy')))"
   ]
  },
  {
   "cell_type": "markdown",
   "metadata": {},
   "source": [
    "# now let's manipulate the images"
   ]
  },
  {
   "cell_type": "code",
   "execution_count": 22,
   "metadata": {},
   "outputs": [],
   "source": [
    "kwargs = {\n",
    "    # change these\n",
    "    'save_dir': 'results/tnew',\n",
    "    'latents': latents,\n",
    "    \n",
    "    # probably not these\n",
    "    'G': G,\n",
    "    'model_dir': DIR_LINEAR_DIRECTIONS, #\"transects/data/latent-models/\",\n",
    "    'orth': True,\n",
    "    'randomize_seeds': False,\n",
    "    'return_ims': True\n",
    "}\n",
    "\n",
    "\n",
    "\n",
    "# make 1D transects\n",
    "LIMS = {\n",
    "    'C': [-1.5, 1.7],\n",
    "    'H': [-0.5, 0.0],\n",
    "    'G': [-1.75, 1.75],\n",
    "    \n",
    "    # these are not calibrated\n",
    "    'A': [-2, 2],\n",
    "    'B': [-2, 2],\n",
    "    'M': [-2, 2],\n",
    "    'S': [-2, 2],\n",
    "    'E': [-2, 2],\n",
    "    'W': [-2, 2],    \n",
    "}"
   ]
  },
  {
   "cell_type": "code",
   "execution_count": 24,
   "metadata": {},
   "outputs": [
    {
     "name": "stderr",
     "output_type": "stream",
     "text": [
      "100%|██████████| 3/3 [00:01<00:00,  2.32it/s]\n"
     ]
    },
    {
     "data": {
      "text/plain": [
       "'\\nims, attr_df = transects.make_transects(\\n    **kwargs\\n)\\n'"
      ]
     },
     "execution_count": 24,
     "metadata": {},
     "output_type": "execute_result"
    }
   ],
   "source": [
    "ATTRS = 'C'\n",
    "N_IMS = 7\n",
    "LIMS['C'] = [-1.4, 1.4]\n",
    "\n",
    "'''\n",
    "ATTRS = 'CGAH' # HAGCBMSEW # CHG\n",
    "N_IMS = 11\n",
    "'''\n",
    "\n",
    "transects_1d = {}\n",
    "for attr in ATTRS:\n",
    "    ims, attr_df = transects.make_transects(\n",
    "        attr=attr,\n",
    "        N_IMS_LIST=[N_IMS],\n",
    "        LIMS_LIST=LIMS[attr],\n",
    "        force_project_to_boundary=False,\n",
    "        **kwargs\n",
    "    )\n",
    "    transects_1d[attr] = ims\n",
    "    \n",
    "# make CHG transects\n",
    "'''\n",
    "ims, attr_df = transects.make_transects(\n",
    "    **kwargs\n",
    ")\n",
    "'''"
   ]
  },
  {
   "cell_type": "code",
   "execution_count": null,
   "metadata": {},
   "outputs": [],
   "source": [
    "\n",
    "def visualize_individual_latent(transects_1d):\n",
    "    '''viz 1-d transects for individual latent\n",
    "    '''\n",
    "    ims = np.array([transects_1d[a] for a in ATTRS])\n",
    "    print(ims.shape)\n",
    "    ims = ims.reshape((len(ATTRS), N_IMS, *ims.shape[2:]))\n",
    "    util.plot_grid(ims, ylabs=[ATTR_LABELS[a] for a in ATTRS])\n",
    "    \n",
    "\n",
    "REG_LABS = {\n",
    "    10000: 'Unexpanded',\n",
    "    1e-1: 'Regularized',\n",
    "    0: 'Unregularized'\n",
    "}\n",
    "def visualize_varying_reg(transects_1d):\n",
    "    '''viz 1-d transect (1 attribute) for latents as reg changes\n",
    "    '''\n",
    "    ims = np.array([transects_1d[a] for a in ATTRS])\n",
    "    print(ims.shape)\n",
    "    ims = ims.reshape((len(latents), N_IMS, *ims.shape[2:]))\n",
    "    util.plot_grid(ims, ylabs=[REG_LABS[reg] for reg in regs], emphasize_col=N_IMS//2)    \n",
    "\n",
    "    \n",
    "# visualize_individual_latent(transects_1d)\n",
    "\n",
    "\n",
    "# varying reg fig\n",
    "ax = plt.subplot(111, facecolor='white')\n",
    "plt.imshow(im_orig)\n",
    "plt.ylabel('Original image')\n",
    "util.emphasize_box(ax)\n",
    "util.savefig('manipulations_orig')\n",
    "visualize_varying_reg(transects_1d)\n",
    "util.savefig('manipulations_full')"
   ]
  },
  {
   "cell_type": "markdown",
   "metadata": {},
   "source": [
    "# project things to be neutral"
   ]
  },
  {
   "cell_type": "code",
   "execution_count": null,
   "metadata": {},
   "outputs": [],
   "source": [
    "# load latents\n",
    "for im_num in np.arange(10):\n",
    "    im_orig_fname = oj(DIR_IMS, f'{im_num + 1:05}.jpg')\n",
    "    im_gen_fname = oj(DIR_GEN, f'{im_num + 1:05}.png')\n",
    "    latents = [np.load(oj(DIR_GEN, f'{im_num + 1:05}.npy'))]\n",
    "    im_orig = mpimg.imread(im_orig_fname)\n",
    "    im_gen = mpimg.imread(im_gen_fname)\n",
    "\n",
    "\n",
    "    attr = 'C'\n",
    "    im_neutral, W_neutral = transects.make_transects(\n",
    "        G=G,\n",
    "        attr=attr,\n",
    "        latents=latents,\n",
    "        force_project_to_boundary=False,\n",
    "        N_IMS_LIST=[1],\n",
    "        LIMS_LIST=[0, 0],\n",
    "        return_project_to_boundary=True,\n",
    "        orth=True,\n",
    "    )\n",
    "    util.plot_row([im_orig, im_gen, im_neutral], annot_list=['orig', 'rec', 'neutral'])"
   ]
  },
  {
   "cell_type": "markdown",
   "metadata": {},
   "source": [
    "# let's just look at a bunch of reconstructions\n",
    "(at the best reg)"
   ]
  },
  {
   "cell_type": "code",
   "execution_count": 15,
   "metadata": {},
   "outputs": [],
   "source": [
    "DIR_ORIG = '../data/celeba-hq/ims/'\n",
    "DIRS_GEN = '../data_processed/celeba-hq/'\n",
    "\n",
    "reg = 0.1\n",
    "IM_NUMS = np.arange(30, 60)\n",
    "\n",
    "ims_orig = []\n",
    "ims_rec = []\n",
    "for IM_NUM in IM_NUMS:\n",
    "    folder = f'generated_images_{reg}'\n",
    "    im_fname = oj(DIRS_GEN, folder, f'{IM_NUM:05}.png')\n",
    "    ims_orig.append(mpimg.imread(oj(DIR_IMS, f'{IM_NUM:05}.jpg')))\n",
    "    ims_rec.append(mpimg.imread(im_fname))"
   ]
  },
  {
   "cell_type": "code",
   "execution_count": null,
   "metadata": {},
   "outputs": [],
   "source": [
    "util.plot_grid(ims_orig)"
   ]
  },
  {
   "cell_type": "code",
   "execution_count": null,
   "metadata": {},
   "outputs": [],
   "source": [
    "util.plot_grid(ims_rec)"
   ]
  },
  {
   "cell_type": "markdown",
   "metadata": {},
   "source": [
    "### "
   ]
  }
 ],
 "metadata": {
  "kernelspec": {
   "display_name": "Environment (conda_python3)",
   "language": "python",
   "name": "conda_python3"
  },
  "language_info": {
   "codemirror_mode": {
    "name": "ipython",
    "version": 3
   },
   "file_extension": ".py",
   "mimetype": "text/x-python",
   "name": "python",
   "nbconvert_exporter": "python",
   "pygments_lexer": "ipython3",
   "version": "3.6.10"
  }
 },
 "nbformat": 4,
 "nbformat_minor": 4
}
